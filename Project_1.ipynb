{
 "cells": [
  {
   "cell_type": "code",
   "execution_count": 3,
   "id": "9e60b929",
   "metadata": {},
   "outputs": [],
   "source": [
    "import cantera as ct \n",
    "import numpy as np \n",
    "import matplotlib.pyplot as plt"
   ]
  },
  {
   "cell_type": "code",
   "execution_count": 5,
   "id": "bd14361e",
   "metadata": {},
   "outputs": [],
   "source": [
    "gas= ct.Solution('gri30_highT.cti')\n",
    "gas.basis='molar'"
   ]
  },
  {
   "cell_type": "code",
   "execution_count": 16,
   "id": "2ba10fd7",
   "metadata": {},
   "outputs": [
    {
     "name": "stdout",
     "output_type": "stream",
     "text": [
      "Adiabatic flame temp:1672.9137665853593K\n",
      "Adiabatic flame temp:3037.5098924225863K\n",
      "Adiabatic flame temp:3324.45914779496K\n",
      "Adiabatic flame temp:3399.331317172336K\n",
      "Adiabatic flame temp:3431.682967296816K\n",
      "Adiabatic flame temp:3451.3916282370556K\n",
      "Adiabatic flame temp:3465.353069934924K\n",
      "Adiabatic flame temp:3475.9472175230585K\n",
      "Adiabatic flame temp:3484.3135412120673K\n",
      "Adiabatic flame temp:3491.1071443641563K\n",
      "Adiabatic flame temp:3496.7426813040606K\n",
      "Adiabatic flame temp:3501.498364371051K\n",
      "Adiabatic flame temp:3505.568724786001K\n",
      "Adiabatic flame temp:3509.0942256809058K\n",
      "Adiabatic flame temp:3512.178994432252K\n",
      "Adiabatic flame temp:3514.9019510668736K\n",
      "Adiabatic flame temp:3517.324056394771K\n",
      "Adiabatic flame temp:3519.4931807948597K\n",
      "Adiabatic flame temp:3521.4474620754886K\n",
      "Adiabatic flame temp:3523.21767493875K\n",
      "Adiabatic flame temp:3524.8289369906033K\n",
      "Adiabatic flame temp:3526.301959204648K\n",
      "Adiabatic flame temp:3527.653977237801K\n",
      "Adiabatic flame temp:3528.8994550917896K\n",
      "Adiabatic flame temp:3530.0506237293494K\n",
      "Adiabatic flame temp:3531.117898262823K\n",
      "Adiabatic flame temp:3532.110204601729K\n",
      "Adiabatic flame temp:3533.035237757959K\n",
      "Adiabatic flame temp:3533.8996679809197K\n",
      "Adiabatic flame temp:3534.7093066535585K\n",
      "Adiabatic flame temp:3535.4692408518517K\n",
      "Adiabatic flame temp:3536.1839432838865K\n",
      "Adiabatic flame temp:3536.857362723102K\n",
      "Adiabatic flame temp:3537.492998869381K\n",
      "Adiabatic flame temp:3538.0939646859542K\n",
      "Adiabatic flame temp:3538.6630386063143K\n",
      "Adiabatic flame temp:3539.2027084660485K\n",
      "Adiabatic flame temp:3539.715208676311K\n",
      "Adiabatic flame temp:3540.202551813046K\n",
      "Adiabatic flame temp:3540.666555580923K\n"
     ]
    }
   ],
   "source": [
    "T= 298.16\n",
    "P=101325\n",
    "\n",
    "## Fuel and Oxidizer\n",
    "fuel =\"CO:1\"\n",
    "ox = \"O2:1\"\n",
    "\n",
    "# reactant state: CO + O2+3.76 N2 => product\n",
    "\n",
    "#defining constant properties\n",
    "gas.TP= T, P \n",
    "phi_range = np.arange(0.1,10,0.25)\n",
    "\n",
    "for phi in phi_range:\n",
    "    gas.set_equivalence_ratio(phi,fuel,ox)\n",
    "    gas.equilibrate('HP')\n",
    "    print(\"Adiabatic flame temp:\"+str(gas.T)+'K')\n"
   ]
  },
  {
   "cell_type": "code",
   "execution_count": 15,
   "id": "772ceef3",
   "metadata": {},
   "outputs": [
    {
     "data": {
      "text/plain": [
       "array([0.1, 0.2, 0.3, 0.4, 0.5, 0.6, 0.7, 0.8, 0.9, 1. , 1.1, 1.2, 1.3,\n",
       "       1.4, 1.5, 1.6, 1.7, 1.8, 1.9, 2. , 2.1, 2.2, 2.3, 2.4, 2.5, 2.6,\n",
       "       2.7, 2.8, 2.9, 3. , 3.1, 3.2, 3.3, 3.4, 3.5, 3.6, 3.7, 3.8, 3.9,\n",
       "       4. , 4.1, 4.2, 4.3, 4.4, 4.5, 4.6, 4.7, 4.8, 4.9, 5. , 5.1, 5.2,\n",
       "       5.3, 5.4, 5.5, 5.6, 5.7, 5.8, 5.9, 6. , 6.1, 6.2, 6.3, 6.4, 6.5,\n",
       "       6.6, 6.7, 6.8, 6.9, 7. , 7.1, 7.2, 7.3, 7.4, 7.5, 7.6, 7.7, 7.8,\n",
       "       7.9, 8. , 8.1, 8.2, 8.3, 8.4, 8.5, 8.6, 8.7, 8.8, 8.9, 9. , 9.1,\n",
       "       9.2, 9.3, 9.4, 9.5, 9.6, 9.7, 9.8, 9.9])"
      ]
     },
     "execution_count": 15,
     "metadata": {},
     "output_type": "execute_result"
    }
   ],
   "source": []
  },
  {
   "cell_type": "code",
   "execution_count": 13,
   "id": "945e07f3",
   "metadata": {},
   "outputs": [],
   "source": []
  }
 ],
 "metadata": {
  "kernelspec": {
   "display_name": "Python 3 (ipykernel)",
   "language": "python",
   "name": "python3"
  },
  "language_info": {
   "codemirror_mode": {
    "name": "ipython",
    "version": 3
   },
   "file_extension": ".py",
   "mimetype": "text/x-python",
   "name": "python",
   "nbconvert_exporter": "python",
   "pygments_lexer": "ipython3",
   "version": "3.9.7"
  }
 },
 "nbformat": 4,
 "nbformat_minor": 5
}
