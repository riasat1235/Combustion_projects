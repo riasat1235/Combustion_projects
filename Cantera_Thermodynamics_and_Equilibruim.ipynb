{
 "cells": [
  {
   "cell_type": "code",
   "execution_count": 2,
   "metadata": {},
   "outputs": [],
   "source": [
    "import cantera as ct    # import cantera\n",
    "import math             # import math (sqrt, exp, etc.)\n",
    "import scipy.optimize as optimize\n",
    "from scipy.optimize import fsolve     # solves nonlinear equations\n",
    "from scipy.optimize import curve_fit  # does curve fitting\n",
    "import scipy.integrate as integrate\n",
    "import matplotlib.pyplot as plt      # does matlab-like plotting\n",
    "import numpy as np                    # does a bunch of array stuff\n",
    "from scipy.integrate import ode       # solves ODEs\n",
    "\n",
    "#%matplotlib inline # WINDOWS ONLY!!!! force matplotlib to show the plot in Jupyter inline: "
   ]
  },
  {
   "cell_type": "markdown",
   "metadata": {},
   "source": [
    "### Setting Up a Gas Mixture"
   ]
  },
  {
   "cell_type": "markdown",
   "metadata": {},
   "source": [
    "The first thing to do with Cantera is to define a gas object. Remember that we defined cantera with the shorthand ct. "
   ]
  },
  {
   "cell_type": "code",
   "execution_count": 3,
   "metadata": {},
   "outputs": [],
   "source": [
    "gas = ct.Solution('gri30_highT.yaml') \n",
    "#Note: gas can be named anything, it doesn't have to be gas"
   ]
  },
  {
   "cell_type": "markdown",
   "metadata": {},
   "source": [
    "The 'gri30_highT.cti' is a file that contains the elements, species, thermodynamic data (curvefits of Cp), and the chemical reaction mechanism. We will go over these files and how to modify them at a later date. The above function reads data from the file gri30_highT.cti and defined the mixture based off of that. To view the current state of gas type *gas()*\n"
   ]
  },
  {
   "cell_type": "code",
   "execution_count": 4,
   "metadata": {},
   "outputs": [
    {
     "name": "stdout",
     "output_type": "stream",
     "text": [
      "\n",
      "  gri30:\n",
      "\n",
      "       temperature   300 K\n",
      "          pressure   1.0133e+05 Pa\n",
      "           density   0.081894 kg/m^3\n",
      "  mean mol. weight   2.016 kg/kmol\n",
      "   phase of matter   gas\n",
      "\n",
      "                          1 kg             1 kmol     \n",
      "                     ---------------   ---------------\n",
      "          enthalpy             26469             53361  J\n",
      "   internal energy       -1.2108e+06        -2.441e+06  J\n",
      "           entropy             64910        1.3086e+05  J/K\n",
      "    Gibbs function       -1.9447e+07       -3.9204e+07  J\n",
      " heat capacity c_p             14311             28851  J/K\n",
      " heat capacity c_v             10187             20536  J/K\n",
      "\n",
      "                      mass frac. Y      mole frac. X     chem. pot. / RT\n",
      "                     ---------------   ---------------   ---------------\n",
      "                H2                 1                 1           -15.717\n",
      "     [  +52 minor]                 0                 0  \n",
      "\n"
     ]
    }
   ],
   "source": [
    "gas() "
   ]
  },
  {
   "cell_type": "markdown",
   "metadata": {},
   "source": [
    "**NOTE:** The enthalpy, internal energy, etc. are per kmol and kg of the **mixture**.  \n",
    "\n",
    "The species_names fuction will provide a list of the species for the gas."
   ]
  },
  {
   "cell_type": "code",
   "execution_count": 4,
   "metadata": {},
   "outputs": [
    {
     "name": "stdout",
     "output_type": "stream",
     "text": [
      "['H2', 'H', 'O', 'O2', 'OH', 'H2O', 'HO2', 'H2O2', 'C', 'CH', 'CH2', 'CH2(S)', 'CH3', 'CH4', 'CO', 'CO2', 'HCO', 'CH2O', 'CH2OH', 'CH3O', 'CH3OH', 'C2H', 'C2H2', 'C2H3', 'C2H4', 'C2H5', 'C2H6', 'HCCO', 'CH2CO', 'HCCOH', 'N', 'NH', 'NH2', 'NH3', 'NNH', 'NO', 'NO2', 'N2O', 'HNO', 'CN', 'HCN', 'H2CN', 'HCNN', 'HCNO', 'HOCN', 'HNCO', 'NCO', 'N2', 'AR', 'C3H7', 'C3H8', 'CH2CHO', 'CH3CHO']\n"
     ]
    }
   ],
   "source": [
    "print(gas.species_names)"
   ]
  },
  {
   "cell_type": "markdown",
   "metadata": {},
   "source": [
    "### Thermodynamic Properties "
   ]
  },
  {
   "cell_type": "markdown",
   "metadata": {},
   "source": [
    "To set the state with a specific temperature, pressure, and mole fraction (actually moles) use the gas.TPX function.  The number of moles are normalized to unity.  There are lots of other ways to set the cantera mixture.  See http://www.cantera.org/docs/sphinx/html/cython/thermo.html"
   ]
  },
  {
   "cell_type": "code",
   "execution_count": 5,
   "metadata": {},
   "outputs": [
    {
     "name": "stdout",
     "output_type": "stream",
     "text": [
      "\n",
      "  gri30:\n",
      "\n",
      "       temperature   1000 K\n",
      "          pressure   1.0133e+06 Pa\n",
      "           density   3.3676 kg/m^3\n",
      "  mean mol. weight   27.633 kg/kmol\n",
      "   phase of matter   gas\n",
      "\n",
      "                          1 kg             1 kmol     \n",
      "                     ---------------   ---------------\n",
      "          enthalpy        5.8795e+05        1.6247e+07  J\n",
      "   internal energy        2.8706e+05        7.9325e+06  J\n",
      "           entropy            7971.8        2.2029e+05  J/K\n",
      "    Gibbs function       -7.3839e+06       -2.0404e+08  J\n",
      " heat capacity c_p            1340.7             37049  J/K\n",
      " heat capacity c_v            1039.8             28734  J/K\n",
      "\n",
      "                      mass frac. Y      mole frac. X     chem. pot. / RT\n",
      "                     ---------------   ---------------   ---------------\n",
      "                O2           0.22014           0.19011           -25.923\n",
      "               CH4          0.055187          0.095057           -34.235\n",
      "                N2           0.72467           0.71483           -22.884\n",
      "     [  +50 minor]                 0                 0  \n",
      "\n"
     ]
    }
   ],
   "source": [
    "T = 1000\n",
    "P = 1013250\n",
    "gas.TPX = T, P, {'CH4':1, 'O2':2, 'N2':2*3.76}\n",
    "gas()"
   ]
  },
  {
   "cell_type": "markdown",
   "metadata": {},
   "source": [
    "Cantera can also ouput the property that you are interested in. **Note** these are per unit kg (or kmol) of the **mixture**."
   ]
  },
  {
   "cell_type": "code",
   "execution_count": 6,
   "metadata": {},
   "outputs": [
    {
     "name": "stdout",
     "output_type": "stream",
     "text": [
      "587946.4984523177\n"
     ]
    }
   ],
   "source": [
    "enthalpy = gas.h\n",
    "print(enthalpy)"
   ]
  },
  {
   "cell_type": "markdown",
   "metadata": {},
   "source": [
    "Use the gas.basis() function to determine wether the output is molar or mass based."
   ]
  },
  {
   "cell_type": "code",
   "execution_count": 7,
   "metadata": {},
   "outputs": [
    {
     "name": "stdout",
     "output_type": "stream",
     "text": [
      "mass\n"
     ]
    }
   ],
   "source": [
    "print(gas.basis)"
   ]
  },
  {
   "cell_type": "markdown",
   "metadata": {},
   "source": [
    "This can be changed with the basis function, which accepts inputs of 'molar' or 'mass'.  "
   ]
  },
  {
   "cell_type": "code",
   "execution_count": 8,
   "metadata": {},
   "outputs": [
    {
     "name": "stdout",
     "output_type": "stream",
     "text": [
      "molar\n",
      "mixture MW 27.633486692015207 kg/kmol mix\n",
      "mixture enthalpy 16247011.74059906 J/kmol mix\n",
      "mixture internal energy 7932549.122445821 J/kmol mix\n",
      "mixure constant pressure specific heat 37048.71220862211 J/kmol K\n",
      "mixutre entropy 220288.7235131813 J/kmol K mix\n"
     ]
    }
   ],
   "source": [
    "gas.basis = 'molar' # 'mass'\n",
    "print(gas.basis)\n",
    "print('mixture MW', gas.mean_molecular_weight, 'kg/kmol mix')\n",
    "print('mixture enthalpy', gas.h, 'J/kmol mix')\n",
    "print('mixture internal energy', gas.u, 'J/kmol mix')\n",
    "print('mixure constant pressure specific heat', gas.cp, 'J/kmol K')\n",
    "print('mixutre entropy', gas.s, 'J/kmol K mix')"
   ]
  },
  {
   "cell_type": "markdown",
   "metadata": {},
   "source": [
    "Note that the value of the enthalpy changed in the above cell in comparison to the previous result.  This is because the enthalpy now has units J/kmol for the mixture.  Some properties can also be explicitly computed on a mass or molar basis.  Examples are below.\n",
    "\n"
   ]
  },
  {
   "cell_type": "code",
   "execution_count": 9,
   "metadata": {},
   "outputs": [
    {
     "name": "stdout",
     "output_type": "stream",
     "text": [
      "mixture density: 3.367581487413497 kg/m^3\n",
      "mixture concentration: 0.12186596374704216 kmol/m^3\n",
      "specific volume mass: 0.2969490133312437 m^3/kg\n",
      "specific volume molar: 8.205736608095968 m^3/kmol\n",
      "h mass: 587946.4984523177  J/kg mix\n",
      "h molar: 16247011.74059906 J/kmol mix\n",
      "e mass: 287062.91069443506  J/kg mix\n",
      "e molar: 7932549.122445821  J/kg mix\n",
      "s mass: 7971.803412590511  J/kg K mix\n",
      "s molar: 220288.7235131813  J/kmol K mix\n",
      "Cv mass: 1039.8343832149033 J/kg K\n",
      "Cv molar: 28734.249590468873 J/kmol K\n",
      "Cp mass: 1340.717970972786 J/kg K\n",
      "Cp molar: 37048.71220862211 J/kmol K\n",
      "Gibbs Free Energy Mass: -7383856.914138193 J/kg K mix\n",
      "Gibbs Free Energy Mole: -204041711.77258223 J/kmol K mix\n"
     ]
    }
   ],
   "source": [
    "print('mixture density:', gas.density_mass, 'kg/m^3')\n",
    "print('mixture concentration:', gas.density_mole, 'kmol/m^3')\n",
    "print('specific volume mass:', gas.volume_mass, 'm^3/kg')\n",
    "print('specific volume molar:', gas.volume_mole, 'm^3/kmol')\n",
    "print('h mass:', gas.enthalpy_mass, ' J/kg mix')\n",
    "print('h molar:', gas.enthalpy_mole, 'J/kmol mix')\n",
    "print('e mass:', gas.int_energy_mass, ' J/kg mix')\n",
    "print('e molar:', gas.int_energy_mole, ' J/kg mix')\n",
    "print('s mass:', gas.entropy_mass, ' J/kg K mix')\n",
    "print('s molar:', gas.entropy_mole, ' J/kmol K mix')\n",
    "print('Cv mass:', gas.cv_mass, 'J/kg K')\n",
    "print('Cv molar:', gas.cv_mole, 'J/kmol K')\n",
    "print('Cp mass:', gas.cp_mass, 'J/kg K')\n",
    "print('Cp molar:', gas.cp_mole, 'J/kmol K')\n",
    "print('Gibbs Free Energy Mass:', gas.gibbs_mass, 'J/kg K mix')\n",
    "print('Gibbs Free Energy Mole:', gas.gibbs_mole, 'J/kmol K mix')"
   ]
  },
  {
   "cell_type": "markdown",
   "metadata": {},
   "source": [
    "The species mass and mole fractions are stored in a large array gas.X and gas.Y.  The ordering of the species matches the species list shown above."
   ]
  },
  {
   "cell_type": "code",
   "execution_count": 10,
   "metadata": {},
   "outputs": [
    {
     "data": {
      "text/plain": [
       "array([0.        , 0.        , 0.        , 0.19011407, 0.        ,\n",
       "       0.        , 0.        , 0.        , 0.        , 0.        ,\n",
       "       0.        , 0.        , 0.        , 0.09505703, 0.        ,\n",
       "       0.        , 0.        , 0.        , 0.        , 0.        ,\n",
       "       0.        , 0.        , 0.        , 0.        , 0.        ,\n",
       "       0.        , 0.        , 0.        , 0.        , 0.        ,\n",
       "       0.        , 0.        , 0.        , 0.        , 0.        ,\n",
       "       0.        , 0.        , 0.        , 0.        , 0.        ,\n",
       "       0.        , 0.        , 0.        , 0.        , 0.        ,\n",
       "       0.        , 0.        , 0.7148289 , 0.        , 0.        ,\n",
       "       0.        , 0.        , 0.        ])"
      ]
     },
     "execution_count": 10,
     "metadata": {},
     "output_type": "execute_result"
    }
   ],
   "source": [
    "gas.X"
   ]
  },
  {
   "cell_type": "markdown",
   "metadata": {},
   "source": [
    "This isn't very useful for visual inspection.  We don't know which species is which.  A more useful to visually inspect the mass or mole fractions is use the mole_fraction_dict() or mass_fraction_dict() functions. \n",
    "\n",
    "\n",
    "\n"
   ]
  },
  {
   "cell_type": "code",
   "execution_count": 11,
   "metadata": {
    "scrolled": true
   },
   "outputs": [
    {
     "data": {
      "text/plain": [
       "{'CH4': 0.09505703422053231,\n",
       " 'N2': 0.714828897338403,\n",
       " 'O2': 0.19011406844106463}"
      ]
     },
     "execution_count": 11,
     "metadata": {},
     "output_type": "execute_result"
    }
   ],
   "source": [
    "gas.mole_fraction_dict()"
   ]
  },
  {
   "cell_type": "code",
   "execution_count": 12,
   "metadata": {},
   "outputs": [
    {
     "data": {
      "text/plain": [
       "{'CH4': 0.05518666598235155,\n",
       " 'N2': 0.7246720963310207,\n",
       " 'O2': 0.22014123768662783}"
      ]
     },
     "execution_count": 12,
     "metadata": {},
     "output_type": "execute_result"
    }
   ],
   "source": [
    "gas.mass_fraction_dict()"
   ]
  },
  {
   "cell_type": "markdown",
   "metadata": {},
   "source": [
    "You can get the index of that species using gas.species_index('SpeciesName').  **Note:** This command is case sensitive and MUST exactly match a species name or else an error message will be thrown."
   ]
  },
  {
   "cell_type": "code",
   "execution_count": 13,
   "metadata": {},
   "outputs": [],
   "source": [
    "nCH4 = gas.species_index('CH4')\n",
    "nCO = gas.species_index('CO')\n",
    "nCO2 = gas.species_index('CO2')\n",
    "nH2  = gas.species_index('H2')\n",
    "nH   = gas.species_index('H')\n",
    "nC3H8 = gas.species_index('C3H8')\n",
    "nC2H6 = gas.species_index('C2H4')\n",
    "nH2O = gas.species_index('H2O')\n"
   ]
  },
  {
   "cell_type": "markdown",
   "metadata": {},
   "source": [
    "Now that we have the species index we can grab some species specific properties for each species. These properties can be used to find the properties of a particular species.  \n",
    "\n",
    "With the exception of the mass and mole fraction the properties are on a molar basis.  The enthalpy, entropy, internal eneergy, Cp, and MW for each species are computed even if the mole fraction is zero.  "
   ]
  },
  {
   "cell_type": "code",
   "execution_count": 14,
   "metadata": {},
   "outputs": [
    {
     "name": "stdout",
     "output_type": "stream",
     "text": [
      "Species Name: CH4\n",
      "X_CH4 0.09505703422053231\n",
      "Y_CH4 0.05518666598235155\n",
      "MW_CH4 16.043 kg/kmol\n",
      "h_CH4 -35948444.66514413 J/kmol\n",
      "e_CH4 -44262907.28329737 J/kmol\n",
      "s_CH4 248700.31479914457 J/kmol K\n",
      "Cp_CH4 73616.66965658606 J/kmol K\n"
     ]
    }
   ],
   "source": [
    "print('Species Name:', gas.species_names[nCH4])\n",
    "print('X_CH4', gas.X[nCH4])\n",
    "print('Y_CH4', gas.Y[nCH4])\n",
    "print('MW_CH4', gas.molecular_weights[nCH4], 'kg/kmol')\n",
    "print('h_CH4', gas.partial_molar_enthalpies[nCH4], 'J/kmol')\n",
    "print('e_CH4', gas.partial_molar_int_energies[nCH4], 'J/kmol')\n",
    "print('s_CH4', gas.partial_molar_entropies[nCH4], 'J/kmol K')\n",
    "print('Cp_CH4', gas.partial_molar_cp[nCH4], 'J/kmol K')"
   ]
  },
  {
   "cell_type": "markdown",
   "metadata": {},
   "source": [
    "The species specific properties can be used to plot the properties of each gas species. Below is an example that computes and plots the $\\bar{C_p}$ for severa species."
   ]
  },
  {
   "cell_type": "code",
   "execution_count": 15,
   "metadata": {},
   "outputs": [
    {
     "data": {
      "image/png": "[encoded data removed]",
      "text/plain": [
       "<Figure size 432x288 with 1 Axes>"
      ]
     },
     "metadata": {
      "needs_background": "light"
     },
     "output_type": "display_data"
    }
   ],
   "source": [
    "# define the number of plot points and the upper and lower temperature bounds\n",
    "npts = 100\n",
    "Tlow = 300\n",
    "Thigh = 4000\n",
    "p = 101325\n",
    "\n",
    "# pre-allocate the arrays for each spec\n",
    "Tarr = np.linspace(Tlow, Thigh,npts)\n",
    "Cparr = np.zeros(npts)\n",
    "Cp_CO = np.zeros(npts)\n",
    "Cp_CO2 = np.zeros(npts)\n",
    "Cp_CH4 = np.zeros(npts)\n",
    "Cp_H   = np.zeros(npts)\n",
    "Cp_C3H8 = np.zeros(npts)\n",
    "Cp_C2H6 = np.zeros(npts)\n",
    "\n",
    "# Now loop throuh the temperature array and compute the species Cp and set the values\n",
    "# into the array\n",
    "for i in range(npts):\n",
    "    # Set the temperature and pressure\n",
    "    T = Tarr[i]\n",
    "    gas.TP = T, p # don't need to set the mixture\n",
    "    cps = gas.partial_molar_cp  # this get an array of Cp for each species. \n",
    "    Cp_CO[i] = cps[nCO]\n",
    "    Cp_CO2[i] = cps[nCO2]\n",
    "    Cp_CH4[i] = cps[nCH4] \n",
    "    Cp_H[i] = cps[nH]\n",
    "    Cp_C2H6[i] = cps[nC2H6]\n",
    "\n",
    "    \n",
    "# Everythin below is just a plotting command.\n",
    "    \n",
    "# To plot multiple lines.  The plot function keeps \"stacking\" the lines until there is show\n",
    "# command.  Note: It is annoying, but more often than not, more than half of your codes for\n",
    "# this course will be plot commands.  Note that Cp values in the plot are divided by 1000\n",
    "# to put them on a kJ basis.  \n",
    "plt.plot(Tarr,Cp_CH4/1000,'k',label='CH$_4$')\n",
    "plt.plot(Tarr,Cp_CO/1000,'b',label='CO')\n",
    "plt.plot(Tarr,Cp_CO2/1000,'r',label='CO$_2$')\n",
    "plt.plot(Tarr,Cp_H/1000,'m',label='H')\n",
    "plt.plot(Tarr,Cp_C2H6/1000,'y',label='C$_2$H$_6$')\n",
    "\n",
    "# label the x-axis and the y-axis\n",
    "plt.xlabel('Temperature [K]',fontsize=15)\n",
    "plt.ylabel('$Cp$ (kJ/kmol)',fontsize=15)\n",
    "\n",
    "# set the y plotting limit\n",
    "plt.ylim(0,150)\n",
    "\n",
    "# set the font size for the x and y ticks\n",
    "plt.xticks(fontsize=12)\n",
    "plt.yticks(fontsize=12)\n",
    "\n",
    "# For annotating the plot, please use either a legend \n",
    "plt.legend(loc=\"upper left\", bbox_to_anchor=[0, 1],\n",
    "           ncol=5, shadow=True,  fancybox=True,fontsize='medium')\n",
    "\n",
    "# OR annotatet the lines.  Either or is fine.  Just make sure the\n",
    "# legend box or the annotations to not interfere with the plot. \n",
    "plt.annotate('CH$_4$', xy=(2000, 80), xytext=(2000, 90), \n",
    "             color='k', fontsize=12)\n",
    "plt.annotate('CO', xy=(2000, 40), xytext=(2000, 40), \n",
    "             color='k', fontsize=12)\n",
    "plt.annotate('CO$_2$', xy=(2000, 65), xytext=(2000, 65), \n",
    "             color='k', fontsize=12)\n",
    "plt.annotate('H', xy=(2000, 23), xytext=(2000, 23), \n",
    "             color='k', fontsize=12)\n",
    "plt.annotate('C$_2$H$_6$', xy=(1000,110), xytext=(1000, 110), \n",
    "             color='k', fontsize=12)\n",
    "plt.show()"
   ]
  },
  {
   "cell_type": "markdown",
   "metadata": {},
   "source": [
    "### Chemical Equilbrium"
   ]
  },
  {
   "cell_type": "markdown",
   "metadata": {},
   "source": [
    "To equilibrate the mixture use the gas.equilibrate function.  The argument to this function is one of the following character strings ['TP','TV','HP','SP','SV','UV'].  These correspond to the variables that are being held constant for the equilibration.  For example, the do constant enthalpy and pressure equilibration of stoichiometric methane-air use the following.  Remember to set the state of the reactants.\n",
    "\n",
    "**IMPORTANT:** The equilibrate functions change the gas to the equilibrium mixture.  So the temperature, mole fractions, pressure, etc. will be those of the equilibrium state.  If you need to sweep over parameters (e.g., equilvalence ratio) than you will need to reset the pressure, temperature, and mole fractions back to their reactant state.\n",
    "\n",
    "Below is an example of stochiometric methane-air"
   ]
  },
  {
   "cell_type": "code",
   "execution_count": 16,
   "metadata": {},
   "outputs": [
    {
     "name": "stdout",
     "output_type": "stream",
     "text": [
      "adiabatic flame temperature =  2225.582373232687\n",
      "equilibrium H2O mole fraction =  0.1834638248272098\n",
      "equilibrium CO2 mole fraction =  0.08535318720214076\n",
      "equilibrium CO mole fraction =  0.008998390826586447\n",
      "equilibruim CH4 mole fraction =  3.0031999306718753e-17\n",
      "\n",
      "  gri30:\n",
      "\n",
      "       temperature   2225.6 K\n",
      "          pressure   1.0133e+05 Pa\n",
      "           density   0.15019 kg/m^3\n",
      "  mean mol. weight   27.428 kg/kmol\n",
      "   phase of matter   gas\n",
      "\n",
      "                          1 kg             1 kmol     \n",
      "                     ---------------   ---------------\n",
      "          enthalpy       -2.5459e+05       -6.9829e+06  J\n",
      "   internal energy       -9.2924e+05       -2.5487e+07  J\n",
      "           entropy            9876.4        2.7089e+05  J/K\n",
      "    Gibbs function       -2.2235e+07       -6.0988e+08  J\n",
      " heat capacity c_p            1514.3             41536  J/K\n",
      " heat capacity c_v            1211.2             33222  J/K\n",
      "\n",
      "                      mass frac. Y      mole frac. X     chem. pot. / RT\n",
      "                     ---------------   ---------------   ---------------\n",
      "                H2        0.00026493         0.0036045           -25.452\n",
      "                 H        1.4338e-05        0.00039013           -12.726\n",
      "                 O        0.00012598        0.00021598           -17.263\n",
      "                O2         0.0053958         0.0046252           -34.526\n",
      "                OH          0.001785         0.0028789           -29.989\n",
      "               H2O            0.1205           0.18346           -42.715\n",
      "               HO2        6.0104e-07        4.9947e-07           -47.252\n",
      "              H2O2        5.7927e-08        4.6712e-08           -59.978\n",
      "                CO         0.0091892         0.0089984           -38.756\n",
      "               CO2           0.13695          0.085353           -56.019\n",
      "               HCO        8.3931e-10        7.9333e-10           -51.482\n",
      "              CH2O         1.436e-11        1.3118e-11           -64.208\n",
      "                 N        7.2796e-09        1.4255e-08           -13.821\n",
      "                NH        1.2913e-09        2.3589e-09           -26.547\n",
      "               NH2        5.4885e-10        9.3954e-10           -39.273\n",
      "               NH3        1.6637e-09        2.6793e-09           -51.999\n",
      "               NNH        7.9907e-10        7.5519e-10           -40.368\n",
      "                NO         0.0020681         0.0018905           -31.084\n",
      "               NO2        5.8208e-07        3.4704e-07           -48.347\n",
      "               N2O        1.6096e-07        1.0031e-07           -44.905\n",
      "               HNO        3.8078e-08        3.3675e-08            -43.81\n",
      "                CN         6.442e-14        6.7912e-14           -35.314\n",
      "               HCN        1.9047e-11        1.9331e-11            -48.04\n",
      "              HOCN        1.7781e-12        1.1336e-12           -65.303\n",
      "              HNCO        6.0741e-10        3.8723e-10           -65.303\n",
      "               NCO        2.3725e-11        1.5488e-11           -52.577\n",
      "                N2           0.72371           0.70858           -27.642\n",
      "     [  +26 minor]        2.7566e-16        2.7378e-16  \n",
      "\n"
     ]
    }
   ],
   "source": [
    "# set the gas mixture\n",
    "gas.TPX = 300, 101325, {'CH4':1, 'O2':2, 'N2':3.76*2}\n",
    "\n",
    "# equilibrate the mixturer\n",
    "gas.equilibrate('HP')\n",
    "\n",
    "# print the results\n",
    "print('adiabatic flame temperature = ', gas.T)\n",
    "print('equilibrium H2O mole fraction = ', gas.X[nH2O])\n",
    "print('equilibrium CO2 mole fraction = ', gas.X[nCO2])\n",
    "print('equilibrium CO mole fraction = ', gas.X[nCO])\n",
    "print('equilibruim CH4 mole fraction = ', gas.X[nCH4])\n",
    "gas()"
   ]
  },
  {
   "cell_type": "markdown",
   "metadata": {},
   "source": [
    "Now we will do a more complicated example where the adiabatic flame temperature is computed as a function of equivalence ratio.  This is made easier by the set_equilvalence_ratio function, but first we have to define oxidizer and fuel mixtures."
   ]
  },
  {
   "cell_type": "code",
   "execution_count": 17,
   "metadata": {},
   "outputs": [
    {
     "name": "stdout",
     "output_type": "stream",
     "text": [
      "adiabatic flame temp =  2247.3653814827717  K\n"
     ]
    }
   ],
   "source": [
    "# define a fuel.  Here we will define it as a 50/50 molar mix of methane and ethane (CH4, C2H6).\n",
    "fuel = 'CH4:1, C2H6:1'\n",
    "\n",
    "#define an oxidizer.  Here we use surrogate air\n",
    "ox   = 'O2:1, N2:3.76'\n",
    "\n",
    "# set the temperature and pressure to those of the reactants\n",
    "gas.TP = 300, 101325\n",
    "\n",
    "# set the mixture based on the equivalence ratio\n",
    "gas.set_equivalence_ratio(1., fuel, ox)\n",
    "\n",
    "# now to the equilibrium\n",
    "gas.equilibrate('HP')\n",
    "\n",
    "print('adiabatic flame temp = ', gas.T, ' K')"
   ]
  },
  {
   "cell_type": "markdown",
   "metadata": {},
   "source": [
    "Now lets loop over the equivalence ratios and make a plot. Note, it usualy works best to plot on a log scale for the equivalence ratio."
   ]
  },
  {
   "cell_type": "code",
   "execution_count": 18,
   "metadata": {},
   "outputs": [
    {
     "data": {
      "image/png": "[encoded data removed]",
      "text/plain": [
       "<Figure size 432x288 with 1 Axes>"
      ]
     },
     "metadata": {
      "needs_background": "light"
     },
     "output_type": "display_data"
    }
   ],
   "source": [
    "npts = 300\n",
    "Tarr = np.zeros(npts)\n",
    "phi = np.logspace(-1,1,npts) # space the points in log space from 10^-1 to 10\n",
    "\n",
    "To = 300\n",
    "p  = 101325\n",
    "for i in range(npts):\n",
    "    gas.TP = To, p  # reset the temperature and pressure\n",
    "    gas.set_equivalence_ratio(phi[i], fuel, ox) # set the mixture composition\n",
    "    \n",
    "    gas.equilibrate('HP') # perform the chemical equilibrium\n",
    "    \n",
    "    Tarr[i] = gas.T # store the temperature\n",
    "    \n",
    "\n",
    "plt.semilogx(phi, Tarr)\n",
    "plt.xlabel('Equivalence Ratio $\\phi$')\n",
    "plt.ylabel('Adiabatic Flame Temperature (K)')\n",
    "plt.show()"
   ]
  },
  {
   "cell_type": "code",
   "execution_count": null,
   "metadata": {},
   "outputs": [],
   "source": []
  },
  {
   "cell_type": "code",
   "execution_count": null,
   "metadata": {},
   "outputs": [],
   "source": []
  }
 ],
 "metadata": {
  "kernelspec": {
   "display_name": "Python 3 (ipykernel)",
   "language": "python",
   "name": "python3"
  },
  "language_info": {
   "codemirror_mode": {
    "name": "ipython",
    "version": 3
   },
   "file_extension": ".py",
   "mimetype": "text/x-python",
   "name": "python",
   "nbconvert_exporter": "python",
   "pygments_lexer": "ipython3",
   "version": "3.9.7"
  }
 },
 "nbformat": 4,
 "nbformat_minor": 4
}
