{
 "cells": [
  {
   "cell_type": "code",
   "execution_count": 2,
   "id": "d8f461d9",
   "metadata": {},
   "outputs": [],
   "source": [
    "import cantera as ct    # import cantera\n",
    "import math             # import math (sqrt, exp, etc.)\n",
    "from scipy.integrate import solve_ivp  # solves ODE (initial value problems)\n",
    "import scipy.integrate as integrate\n",
    "import matplotlib.pyplot as plt      # does matlab-like plotting\n",
    "import numpy as np                   "
   ]
  },
  {
   "cell_type": "code",
   "execution_count": 3,
   "id": "3d4f28b7",
   "metadata": {},
   "outputs": [],
   "source": [
    "gas= ct.Solution('chem.cti')"
   ]
  },
  {
   "cell_type": "markdown",
   "id": "89694a5b",
   "metadata": {},
   "source": [
    "## Parameters of the engine "
   ]
  },
  {
   "cell_type": "code",
   "execution_count": 7,
   "id": "03252548",
   "metadata": {},
   "outputs": [],
   "source": [
    "L=145.54     # length of connecting rod\n",
    "B=82.0       # Bore dia\n",
    "S=90.4       # strokes length\n",
    "cr=16.7      # compression ratio\n",
    "T_in = 300   # intake temp\n",
    "P_in = 101325 # intake pressure\n",
    "D_intake= 0.45*B  # Intake port dia\n",
    "D_exhaust= 0.37*B # Exhaust port dia\n",
    "D_valve= 0.25*B # valve stem dia\n",
    "N_intake= 2 # no of intke valve \n",
    "N_exhaust= 2 # no of exhaust valve\n",
    "\n",
    "rf_intake = 20 # rise factor \n",
    "rf_exhaust= 20 # rise factor\n",
    "\n",
    "itheta_op= 0 # intake openning angle \n",
    "itheta_cl= 220*math.pi/180.0 # intake valve close\n",
    "etheta_op= 540*math.pi/180.0 # exhaust valve open \n",
    "etheta_cl= 720*math.pi/180.0 # exhaust valve close "
   ]
  },
  {
   "cell_type": "markdown",
   "id": "564dd155",
   "metadata": {},
   "source": [
    "### Instanteneous valve area using the tanh "
   ]
  },
  {
   "cell_type": "code",
   "execution_count": 6,
   "id": "8d66728b",
   "metadata": {},
   "outputs": [],
   "source": [
    "# calculate intake valve area \n",
    "def intake_valve_area(self, theta):\n",
    "    theta_shift =360 \n",
    "    t=(theta+theta_shift)%720\n",
    "    to_rel = self.itheta_op+theta_shift\n",
    "    tc_rel = self.itheta_cl+theta_shift\n",
    "    \n",
    "    y=self.intake_max_area*0.5*(\n",
    "    np.tanh((t-to_rel)/self.rf_intake)-\n",
    "    np.tanh((t-tc_rel)/self.rf_intake) )\n",
    "    return y\n",
    "\n",
    "# calculate exhasut valve area \n",
    "def exhaust_valve_area(self, theta):\n",
    "    theta_shift =360 \n",
    "    t=(theta+theta_shift)%720\n",
    "    to_rel = self.etheta_op+theta_shift\n",
    "    tc_rel = self.etheta_cl+theta_shift\n",
    "    \n",
    "    y=self.exhaust_max_area*0.5*(\n",
    "    np.tanh((t-to_rel)/self.rf_exhaust)-\n",
    "    np.tanh((t-tc_rel)/self.rf_exhasut) )\n",
    "    return y\n"
   ]
  },
  {
   "cell_type": "code",
   "execution_count": null,
   "id": "149c3616",
   "metadata": {},
   "outputs": [],
   "source": []
  }
 ],
 "metadata": {
  "kernelspec": {
   "display_name": "Python 3 (ipykernel)",
   "language": "python",
   "name": "python3"
  },
  "language_info": {
   "codemirror_mode": {
    "name": "ipython",
    "version": 3
   },
   "file_extension": ".py",
   "mimetype": "text/x-python",
   "name": "python",
   "nbconvert_exporter": "python",
   "pygments_lexer": "ipython3",
   "version": "3.9.7"
  }
 },
 "nbformat": 4,
 "nbformat_minor": 5
}
