{
 "cells": [
  {
   "cell_type": "code",
   "execution_count": 1,
   "id": "1360c0aa",
   "metadata": {},
   "outputs": [],
   "source": [
    "from cantera import ck2cti"
   ]
  },
  {
   "cell_type": "code",
   "execution_count": 7,
   "id": "f3e1079c",
   "metadata": {},
   "outputs": [
    {
     "name": "stdout",
     "output_type": "stream",
     "text": [
      "\n",
      "ck2cti.py: Convert Chemkin-format mechanisms to Cantera input files (.cti)\n",
      "\n",
      "Usage:\n",
      "    ck2cti [--input=<filename>]\n",
      "           [--thermo=<filename>]\n",
      "           [--transport=<filename>]\n",
      "           [--surface=<filename>]\n",
      "           [--id=<phase-id>]\n",
      "           [--output=<filename>]\n",
      "           [--permissive]\n",
      "           [-d | --debug]\n",
      "\n",
      "Example:\n",
      "    ck2cti --input=chem.inp --thermo=therm.dat --transport=tran.dat\n",
      "\n",
      "If the output file name is not given, an output file with the same name as the\n",
      "input file, with the extension changed to '.cti'.\n",
      "\n",
      "An input file containing only species definitions (which can be referenced from\n",
      "phase definitions in other input files) can be created by specifying only a\n",
      "thermo file.\n",
      "\n",
      "For the case of a surface mechanism, the gas phase input file should be\n",
      "specified as 'input' and the surface phase input file should be specified as\n",
      "'surface'.\n",
      "\n",
      "The '--permissive' option allows certain recoverable parsing errors (e.g.\n",
      "duplicate transport data) to be ignored.\n",
      "\n",
      "\n"
     ]
    }
   ],
   "source": [
    "ck2cti --input=chem.inp --t"
   ]
  },
  {
   "cell_type": "code",
   "execution_count": 9,
   "id": "4c37547f",
   "metadata": {},
   "outputs": [
    {
     "ename": "SyntaxError",
     "evalue": "cannot assign to operator (Temp/ipykernel_11996/525641117.py, line 1)",
     "output_type": "error",
     "traceback": [
      "\u001b[1;36m  File \u001b[1;32m\"C:\\Users\\riasat\\AppData\\Local\\Temp/ipykernel_11996/525641117.py\"\u001b[1;36m, line \u001b[1;32m1\u001b[0m\n\u001b[1;33m    ck2cti --input=chem.inp --thermo=therm.dat --transport=tran.dat --permissive\u001b[0m\n\u001b[1;37m    ^\u001b[0m\n\u001b[1;31mSyntaxError\u001b[0m\u001b[1;31m:\u001b[0m cannot assign to operator\n"
     ]
    }
   ],
   "source": [
    "ck2cti --input=chem.inp --thermo=therm.dat --transport=tran.dat --permissive"
   ]
  },
  {
   "cell_type": "code",
   "execution_count": null,
   "id": "abd98b54",
   "metadata": {},
   "outputs": [],
   "source": []
  }
 ],
 "metadata": {
  "kernelspec": {
   "display_name": "Python 3 (ipykernel)",
   "language": "python",
   "name": "python3"
  },
  "language_info": {
   "codemirror_mode": {
    "name": "ipython",
    "version": 3
   },
   "file_extension": ".py",
   "mimetype": "text/x-python",
   "name": "python",
   "nbconvert_exporter": "python",
   "pygments_lexer": "ipython3",
   "version": "3.9.7"
  }
 },
 "nbformat": 4,
 "nbformat_minor": 5
}
