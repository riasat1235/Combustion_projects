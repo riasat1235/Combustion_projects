{
 "cells": [
  {
   "cell_type": "code",
   "execution_count": 1,
   "id": "a68747e8",
   "metadata": {},
   "outputs": [],
   "source": [
    "import cantera as ct    # import cantera\n",
    "import math             # import math (sqrt, exp, etc.)\n",
    "from scipy.integrate import solve_ivp  # solves ODE (initial value problems)\n",
    "import scipy.integrate as integrate\n",
    "import matplotlib.pyplot as plt      # does matlab-like plotting\n",
    "import numpy as np                   "
   ]
  },
  {
   "cell_type": "code",
   "execution_count": 2,
   "id": "3143d3b8",
   "metadata": {},
   "outputs": [],
   "source": [
    "gas= ct.Solution('chem.cti')"
   ]
  },
  {
   "cell_type": "code",
   "execution_count": 3,
   "id": "6d979871",
   "metadata": {},
   "outputs": [
    {
     "data": {
      "text/plain": [
       "213813912.33789644"
      ]
     },
     "execution_count": 3,
     "metadata": {},
     "output_type": "execute_result"
    }
   ],
   "source": [
    "gas.int_energy_mass"
   ]
  },
  {
   "cell_type": "markdown",
   "id": "0bb6a419",
   "metadata": {},
   "source": [
    "## Parameters of the engine "
   ]
  },
  {
   "cell_type": "code",
   "execution_count": 4,
   "id": "52c36603",
   "metadata": {},
   "outputs": [],
   "source": [
    "class engine:\n",
    "    \n",
    "    def __init__(self,L,B,S,cr,N_in,N_ex,itheta_op,itheta_cl,etheta_op,etheta_cl,rf_in,rf_ex):\n",
    "        self.L=L\n",
    "        self.B=B\n",
    "        self.S=S\n",
    "        self.R=S/2.0\n",
    "        self.cr=cr\n",
    "        self.D_in=0.45*B\n",
    "        self.D_ex=0.37*B\n",
    "        self.D_va=0.25*B\n",
    "        self.N_in=N_in\n",
    "        self.N_ex=N_ex\n",
    "        self.itheta_op=itheta_op\n",
    "        self.itheta_cl=itheta_cl\n",
    "        self.etheta_op=etheta_op\n",
    "        self.etheta_cl=etheta_cl\n",
    "        self.rf_in=rf_in\n",
    "        self.rf_ex=rf_ex\n",
    "        \n",
    "    def clearance_vol(self):\n",
    "        Ap = (math.pi*self.B**2.0)/4.0\n",
    "        return self.S*Ap/(self.cr-1)\n",
    "    \n",
    "    def piston_area(self):\n",
    "        return (math.pi*self.B**2.0)/4.0\n",
    "        \n",
    "        \n",
    "    def intake_max_area(self):\n",
    "        Av_in= (math.pi*self.D_in**2.0)/4.0\n",
    "        Avs_in=(math.pi*self.D_va**2.0)/4.0\n",
    "        return Av_in-Avs_in\n",
    "        \n",
    "    def exhaust_max_area(self):\n",
    "        Av_ex=(math.pi*self.D_ex**2.0)/4.0\n",
    "        Avs_ex=(math.pi*self.D_va**2.0)/4.0\n",
    "        return Av_ex-Avs_ex\n",
    "    \n",
    "    def intake_valve_area(self,theta):\n",
    "        theta_shift =360 \n",
    "        t=(theta+theta_shift)%720\n",
    "        \n",
    "        to_rel = self.itheta_op+theta_shift\n",
    "        tc_rel = self.itheta_cl+theta_shift\n",
    "        \n",
    "        y=self.intake_max_area()*0.5*(\n",
    "        np.tanh((t-to_rel)/self.rf_in)-\n",
    "        np.tanh((t-tc_rel)/self.rf_in) )\n",
    "        return y\n",
    "    \n",
    "    def exhaust_valve_area(self,theta):\n",
    "        theta_shift =360 \n",
    "        t=(theta+theta_shift)%720\n",
    "        \n",
    "        to_rel = self.etheta_op+theta_shift\n",
    "        tc_rel = self.etheta_cl+theta_shift\n",
    "        \n",
    "        y=self.exhaust_max_area()*0.5*(\n",
    "        np.tanh((t-to_rel)/self.rf_ex)-\n",
    "        np.tanh((t-tc_rel)/self.rf_ex) )\n",
    "        return y\n"
   ]
  },
  {
   "cell_type": "code",
   "execution_count": 5,
   "id": "2567bfef",
   "metadata": {},
   "outputs": [],
   "source": [
    "hcci=engine(145.54,82.0,90.4,16.7,2,2,0,220,540,720,20,20)"
   ]
  },
  {
   "cell_type": "code",
   "execution_count": 6,
   "id": "10827aa0",
   "metadata": {},
   "outputs": [
    {
     "data": {
      "text/plain": [
       "0.0"
      ]
     },
     "execution_count": 6,
     "metadata": {},
     "output_type": "execute_result"
    }
   ],
   "source": [
    "hcci.exhaust_valve_area(79)"
   ]
  },
  {
   "cell_type": "markdown",
   "id": "03e7738b",
   "metadata": {},
   "source": [
    "## function for solving governing equation"
   ]
  },
  {
   "cell_type": "code",
   "execution_count": 7,
   "id": "dc41703b",
   "metadata": {},
   "outputs": [],
   "source": [
    "def rhs(theta,y,gas,hcci,p0,T0,dtheta_dt):\n",
    "    \n",
    "    dy = np.zeros(np.size(y))\n",
    "    \n",
    "    # mass in and out \n",
    "    #### find Mach number \n",
    "    Runi= 8.314\n",
    "    pb=gas.P\n",
    "    gam = gas.cp_mass/gas.cv_mass\n",
    "    rho = y[0]\n",
    "    T= y[1]\n",
    "    massfrac = y[2:]\n",
    "    \n",
    "    \n",
    "    # rho equation \n",
    "    p_fac_in = (p0/pb)**((gam-1)/gam)\n",
    "    \n",
    "    M_in =min(1,math.sqrt((2*max(p_fac_in,0))/(gam-1))) # intlet mach \n",
    "    tau_in = M_in*math*sqrt(gam)*[1+0.5*(gam-1)*M_in**2.0]**(-(gam+1)/(2*(gam-1)))\n",
    "    mf_in=p0*tau_in/math.sqrt(Runi*T0)\n",
    "    mt_in=hcci.intake_valve_area(theta)*mf_in # cd=1\n",
    "    \n",
    "    p_fac_ex=(pb/p0)**((gam-1)/gam)\n",
    "    M_ex =min(1,math.sqrt((2*max(p_fac_ex,0))/(gam-1))) # exhaust mach \n",
    "    tau_ex = M_ex*math*sqrt(gam)*[1+0.5*(gam-1)*M_ex**2.0]**(-(gam+1)/(2*(gam-1)))\n",
    "    mf_ex=p0*tau_in/math.sqrt(Runi*T0)\n",
    "    mt_ex=hcci.exhaust_valve_area(theta)*mf_ex # cd =1\n",
    "   \n",
    "    #dvdt \n",
    "    sfac = math.sqrt(hcci.L**2. -(hcci.R*math.sin(math.radians(theta)+math.pi))**2.) # l2-r2sin2\n",
    "    bfac = -1+hcci.R*math.cos(math.radians(theta)+math.pi)/sfac\n",
    "    mfac = hcci.R*math.sin(math.radians(theta)+math.pi)\n",
    "    dvdt= dtheta_dt*hcci.piston_area()*mfac\n",
    "    \n",
    "    # v(theta)\n",
    "    v_fac = hcci.L+hcci.R+hcci.R*math.cos(math.radians(theta)+math.pi)-sfac\n",
    "    v=hcci.clearance_vol()+hcci.piston_area()*v_fac\n",
    "    \n",
    "    drho_dt = (1/v)*(mt_in-mt_ex-rho*dvdt)\n",
    "    \n",
    "    # mole fraction \n",
    "    mass = rho*v\n",
    "    dmass_dt= rho*dvdt+v*drho_dt\n",
    "    \n",
    "    gas.set_unnormalized_mass_fractions(massfrac)\n",
    "    gas.TD = T, rho\n",
    "    \n",
    "    wdot = gas.net_production_rates      # get the species MOLAR production rate\n",
    "    mws  = gas.molecular_weights         # get the species MW_i\n",
    "    \n",
    "    dydt = (1/mass)*(wdot*mws*v + np.sum(mt_in*massfrac)-np.sum(mt_ex*massfrac)- dmass_dt*massfrac)\n",
    "    \n",
    "    \n",
    "    # temperature equation \n",
    "    h=gas.enthalpy_mass\n",
    "    u=gas.int_energy_mass\n",
    "    ui = gas.partial_molar_int_energies  # get the species internal energy on a MOLAR basis\n",
    "    cv = gas.cv_mass \n",
    "    \n",
    "    dTdt = ((1/mass)*((mt_in-mt_ex)*h-rho*dvdt-u*dmass_dt)-np.sum(dydt*ui/mws))/cv\n",
    "    \n",
    "    drho_dtheta = drho_dt/dtheta_dt\n",
    "    dT_dtheta = dTdt/dtheta_dt\n",
    "    dy_dtheta = dydt/dtheta_dt\n",
    "    \n",
    "    dy[0]=drho_dtheta\n",
    "    dy[1]=dT_dtheta\n",
    "    dy[2:]=dy_dtheta\n",
    "    \n",
    "    \n",
    "    return dy"
   ]
  },
  {
   "cell_type": "code",
   "execution_count": 8,
   "id": "cf5392d0",
   "metadata": {},
   "outputs": [],
   "source": [
    "def integrate_gov_eq(hcci,gas,p0,t0,dtheta_dt,thEnd,atol=1.e-8,rtol=1.e-8):\n",
    "    \n",
    "    # initial condition\n",
    "    y = np.zeros(gas.n_species+2)\n",
    "    y[0]= gas.density_mass # density on mass basis\n",
    "    y[1]=gas.T\n",
    "    y[2:]=gas.Y\n",
    "    \n",
    "    #solve governing ode\n",
    "    soln = integrate.solve_ivp(fun=lambda theta,y:engine_rhs(theta,y,gas,hcci,p0,T0,dtheta_dt),\n",
    "                               t_span=[0,thEnd],y0=y,method='BDF',rtol=rtol,atol=atol);\n",
    "    return soln\n",
    "    "
   ]
  },
  {
   "cell_type": "markdown",
   "id": "cffc01bc",
   "metadata": {},
   "source": [
    "### Function for validation with CV"
   ]
  },
  {
   "cell_type": "code",
   "execution_count": 12,
   "id": "d06ec647",
   "metadata": {},
   "outputs": [],
   "source": [
    "def rhs_validation(t,y,gas,hcci,p0,T0):\n",
    "    # here t is time \n",
    "    dy = np.zeros(np.size(y))\n",
    "    \n",
    "    # mass in and out \n",
    "    #### find Mach number \n",
    "    Runi= 8.314\n",
    "    pb=gas.P\n",
    "    gam = gas.cp_mass/gas.cv_mass\n",
    "    rho = y[0]\n",
    "    T= y[1]\n",
    "    massfrac = y[2:]\n",
    "    \n",
    "    \n",
    "    # rho equation \n",
    "    p_fac_in = (p0/pb)**((gam-1)/gam)\n",
    "    \n",
    "    M_in =min(1,math.sqrt((2*max(p_fac_in,0))/(gam-1))) # intlet mach \n",
    "    tau_in = M_in*math*sqrt(gam)*[1+0.5*(gam-1)*M_in**2.0]**(-(gam+1)/(2*(gam-1)))\n",
    "    mf_in=p0*tau_in/math.sqrt(Runi*T0)\n",
    "    Avalve_in=0   # vale area 0\n",
    "    #mt_in=Avalve_in*mf_in # cd=1\n",
    "    mt_in=0\n",
    "    \n",
    "    p_fac_ex=(pb/p0)**((gam-1)/gam)\n",
    "    M_ex =min(1,math.sqrt((2*max(p_fac_ex,0))/(gam-1))) # exhaust mach \n",
    "    tau_ex = M_ex*math*sqrt(gam)*[1+0.5*(gam-1)*M_ex**2.0]**(-(gam+1)/(2*(gam-1)))\n",
    "    mf_ex=p0*tau_in/math.sqrt(Runi*T0)\n",
    "    Avalve_ex=0 #valve area 0 \n",
    "    #mt_ex=Avalve_ex*mf_ex # cd =1\n",
    "    mt_ex=0\n",
    "   \n",
    "    #dvdt \n",
    "    sfac = math.sqrt(hcci.L**2. -(hcci.R*math.sin(math.radians(theta)+math.pi))**2.) # l2-r2sin2\n",
    "    bfac = -1+hcci.R*math.cos(math.radians(theta)+math.pi)/sfac\n",
    "    mfac = hcci.R*math.sin(math.radians(theta)+math.pi)\n",
    "    #dvdt= dtheta_dt*hcci.piston_area()*mfac\n",
    "    dvdt=0\n",
    "    \n",
    "    # v(theta)\n",
    "    v_fac = hcci.L+hcci.R+hcci.R*math.cos(math.radians(theta)+math.pi)-sfac\n",
    "    #v=hcci.clearance_vol()+hcci.piston_area()*v_fac\n",
    "    v = 10  # consider as constant with theta as it is constant volume \n",
    "    \n",
    "    drho_dt = (1/v)*(mt_in-mt_ex-rho*dvdt)\n",
    "    \n",
    "    # mole fraction \n",
    "    mass = rho*v\n",
    "    dmass_dt= rho*dvdt+v*drho_dt\n",
    "    \n",
    "    gas.set_unnormalized_mass_fractions(massfrac)\n",
    "    gas.TD = T, rho\n",
    "    \n",
    "    wdot = gas.net_production_rates      # get the species MOLAR production rate\n",
    "    mws  = gas.molecular_weights         # get the species MW_i\n",
    "    \n",
    "    dydt = (1/mass)*(wdot*mws*v + np.sum(mt_in*massfrac)-np.sum(mt_ex*massfrac)- dmass_dt*massfrac)\n",
    "    \n",
    "    \n",
    "    # temperature equation \n",
    "    h=gas.enthalpy_mass\n",
    "    u=gas.int_energy_mass\n",
    "    ui = gas.partial_molar_int_energies  # get the species internal energy on a MOLAR basis\n",
    "    cv = gas.cv_mass \n",
    "    \n",
    "    dTdt = ((1/mass)*((mt_in-mt_ex)*h-rho*dvdt-u*dmass_dt)-np.sum(dydt*ui/mws))/cv\n",
    "    \n",
    "    #drho_dtheta = drho_dt/dtheta_dt\n",
    "    #dT_dtheta = dTdt/dtheta_dt\n",
    "    #dy_dtheta = dydt/dtheta_dt\n",
    "    \n",
    "    dy[0]=drho_dt\n",
    "    dy[1]=dTdt\n",
    "    dy[2:]=dydt\n",
    "    \n",
    "    \n",
    "    return dy"
   ]
  },
  {
   "cell_type": "code",
   "execution_count": null,
   "id": "4f3081c8",
   "metadata": {},
   "outputs": [],
   "source": [
    "def integrate_gov_eq_validate(hcci,gas,p0,t0,thEnd,atol=1.e-8,rtol=1.e-8):\n",
    "    \n",
    "    # initial condition\n",
    "    y = np.zeros(gas.n_species+2)\n",
    "    y[0]= gas.density_mass # density on mass basis\n",
    "    y[1]=gas.T\n",
    "    y[2:]=gas.Y\n",
    "    \n",
    "    #solve governing ode\n",
    "    soln = integrate.solve_ivp(fun=lambda t,y:engine_rhs_validate(t,y,gas,hcci,p0,T0),\n",
    "                               t_span=[0,thEnd],y0=y,method='BDF',rtol=rtol,atol=atol);\n",
    "    return soln\n",
    "    "
   ]
  },
  {
   "cell_type": "markdown",
   "id": "bd709b29",
   "metadata": {},
   "source": [
    "## Input parameters "
   ]
  },
  {
   "cell_type": "code",
   "execution_count": 10,
   "id": "71d397b1",
   "metadata": {},
   "outputs": [],
   "source": [
    "N = 2500 # Speed \n",
    "\n",
    "dtheta_dt= 2.0*math.pi*N/60.0\n",
    "\n",
    "\n",
    "\n"
   ]
  },
  {
   "cell_type": "code",
   "execution_count": null,
   "id": "d0d531ef",
   "metadata": {},
   "outputs": [],
   "source": []
  }
 ],
 "metadata": {
  "kernelspec": {
   "display_name": "Python 3 (ipykernel)",
   "language": "python",
   "name": "python3"
  },
  "language_info": {
   "codemirror_mode": {
    "name": "ipython",
    "version": 3
   },
   "file_extension": ".py",
   "mimetype": "text/x-python",
   "name": "python",
   "nbconvert_exporter": "python",
   "pygments_lexer": "ipython3",
   "version": "3.9.7"
  }
 },
 "nbformat": 4,
 "nbformat_minor": 5
}
