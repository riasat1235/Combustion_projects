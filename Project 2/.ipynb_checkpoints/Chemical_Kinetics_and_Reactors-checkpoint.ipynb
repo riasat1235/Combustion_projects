{
 "cells": [
  {
   "cell_type": "code",
   "execution_count": 1,
   "metadata": {},
   "outputs": [],
   "source": [
    "import cantera as ct    # import cantera\n",
    "import math             # import math (sqrt, exp, etc.)\n",
    "from scipy.integrate import solve_ivp  # solves ODE (initial value problems)\n",
    "import scipy.integrate as integrate\n",
    "import matplotlib.pyplot as plt      # does matlab-like plotting\n",
    "import numpy as np                    # does a bunch of array stuff"
   ]
  },
  {
   "cell_type": "code",
   "execution_count": 2,
   "metadata": {},
   "outputs": [],
   "source": [
    "gas = ct.Solution('gri30.yaml')"
   ]
  },
  {
   "cell_type": "markdown",
   "metadata": {},
   "source": [
    "A list of all the reaction equations can be listed with the \n",
    "\n",
    "``` python\n",
    "reaction_equations()\n",
    "```\n",
    "\n",
    "function."
   ]
  },
  {
   "cell_type": "code",
   "execution_count": 3,
   "metadata": {},
   "outputs": [
    {
     "data": {
      "text/plain": [
       "['2 O + M <=> O2 + M',\n",
       " 'H + O + M <=> OH + M',\n",
       " 'H2 + O <=> H + OH',\n",
       " 'HO2 + O <=> O2 + OH',\n",
       " 'H2O2 + O <=> HO2 + OH',\n",
       " 'CH + O <=> CO + H',\n",
       " 'CH2 + O <=> H + HCO',\n",
       " 'CH2(S) + O <=> CO + H2',\n",
       " 'CH2(S) + O <=> H + HCO',\n",
       " 'CH3 + O <=> CH2O + H',\n",
       " 'CH4 + O <=> CH3 + OH',\n",
       " 'CO + O (+M) <=> CO2 (+M)',\n",
       " 'HCO + O <=> CO + OH',\n",
       " 'HCO + O <=> CO2 + H',\n",
       " 'CH2O + O <=> HCO + OH',\n",
       " 'CH2OH + O <=> CH2O + OH',\n",
       " 'CH3O + O <=> CH2O + OH',\n",
       " 'CH3OH + O <=> CH2OH + OH',\n",
       " 'CH3OH + O <=> CH3O + OH',\n",
       " 'C2H + O <=> CH + CO',\n",
       " 'C2H2 + O <=> H + HCCO',\n",
       " 'C2H2 + O <=> C2H + OH',\n",
       " 'C2H2 + O <=> CH2 + CO',\n",
       " 'C2H3 + O <=> CH2CO + H',\n",
       " 'C2H4 + O <=> CH3 + HCO',\n",
       " 'C2H5 + O <=> CH2O + CH3',\n",
       " 'C2H6 + O <=> C2H5 + OH',\n",
       " 'HCCO + O <=> 2 CO + H',\n",
       " 'CH2CO + O <=> HCCO + OH',\n",
       " 'CH2CO + O <=> CH2 + CO2',\n",
       " 'CO + O2 <=> CO2 + O',\n",
       " 'CH2O + O2 <=> HCO + HO2',\n",
       " 'H + O2 + M <=> HO2 + M',\n",
       " 'H + 2 O2 <=> HO2 + O2',\n",
       " 'H + H2O + O2 <=> H2O + HO2',\n",
       " 'H + N2 + O2 <=> HO2 + N2',\n",
       " 'AR + H + O2 <=> AR + HO2',\n",
       " 'H + O2 <=> O + OH',\n",
       " '2 H + M <=> H2 + M',\n",
       " '2 H + H2 <=> 2 H2',\n",
       " '2 H + H2O <=> H2 + H2O',\n",
       " 'CO2 + 2 H <=> CO2 + H2',\n",
       " 'H + OH + M <=> H2O + M',\n",
       " 'H + HO2 <=> H2O + O',\n",
       " 'H + HO2 <=> H2 + O2',\n",
       " 'H + HO2 <=> 2 OH',\n",
       " 'H + H2O2 <=> H2 + HO2',\n",
       " 'H + H2O2 <=> H2O + OH',\n",
       " 'CH + H <=> C + H2',\n",
       " 'CH2 + H (+M) <=> CH3 (+M)',\n",
       " 'CH2(S) + H <=> CH + H2',\n",
       " 'CH3 + H (+M) <=> CH4 (+M)',\n",
       " 'CH4 + H <=> CH3 + H2',\n",
       " 'H + HCO (+M) <=> CH2O (+M)',\n",
       " 'H + HCO <=> CO + H2',\n",
       " 'CH2O + H (+M) <=> CH2OH (+M)',\n",
       " 'CH2O + H (+M) <=> CH3O (+M)',\n",
       " 'CH2O + H <=> H2 + HCO',\n",
       " 'CH2OH + H (+M) <=> CH3OH (+M)',\n",
       " 'CH2OH + H <=> CH2O + H2',\n",
       " 'CH2OH + H <=> CH3 + OH',\n",
       " 'CH2OH + H <=> CH2(S) + H2O',\n",
       " 'CH3O + H (+M) <=> CH3OH (+M)',\n",
       " 'CH3O + H <=> CH2OH + H',\n",
       " 'CH3O + H <=> CH2O + H2',\n",
       " 'CH3O + H <=> CH3 + OH',\n",
       " 'CH3O + H <=> CH2(S) + H2O',\n",
       " 'CH3OH + H <=> CH2OH + H2',\n",
       " 'CH3OH + H <=> CH3O + H2',\n",
       " 'C2H + H (+M) <=> C2H2 (+M)',\n",
       " 'C2H2 + H (+M) <=> C2H3 (+M)',\n",
       " 'C2H3 + H (+M) <=> C2H4 (+M)',\n",
       " 'C2H3 + H <=> C2H2 + H2',\n",
       " 'C2H4 + H (+M) <=> C2H5 (+M)',\n",
       " 'C2H4 + H <=> C2H3 + H2',\n",
       " 'C2H5 + H (+M) <=> C2H6 (+M)',\n",
       " 'C2H5 + H <=> C2H4 + H2',\n",
       " 'C2H6 + H <=> C2H5 + H2',\n",
       " 'H + HCCO <=> CH2(S) + CO',\n",
       " 'CH2CO + H <=> H2 + HCCO',\n",
       " 'CH2CO + H <=> CH3 + CO',\n",
       " 'H + HCCOH <=> CH2CO + H',\n",
       " 'CO + H2 (+M) <=> CH2O (+M)',\n",
       " 'H2 + OH <=> H + H2O',\n",
       " '2 OH (+M) <=> H2O2 (+M)',\n",
       " '2 OH <=> H2O + O',\n",
       " 'HO2 + OH <=> H2O + O2',\n",
       " 'H2O2 + OH <=> H2O + HO2',\n",
       " 'H2O2 + OH <=> H2O + HO2',\n",
       " 'C + OH <=> CO + H',\n",
       " 'CH + OH <=> H + HCO',\n",
       " 'CH2 + OH <=> CH2O + H',\n",
       " 'CH2 + OH <=> CH + H2O',\n",
       " 'CH2(S) + OH <=> CH2O + H',\n",
       " 'CH3 + OH (+M) <=> CH3OH (+M)',\n",
       " 'CH3 + OH <=> CH2 + H2O',\n",
       " 'CH3 + OH <=> CH2(S) + H2O',\n",
       " 'CH4 + OH <=> CH3 + H2O',\n",
       " 'CO + OH <=> CO2 + H',\n",
       " 'HCO + OH <=> CO + H2O',\n",
       " 'CH2O + OH <=> H2O + HCO',\n",
       " 'CH2OH + OH <=> CH2O + H2O',\n",
       " 'CH3O + OH <=> CH2O + H2O',\n",
       " 'CH3OH + OH <=> CH2OH + H2O',\n",
       " 'CH3OH + OH <=> CH3O + H2O',\n",
       " 'C2H + OH <=> H + HCCO',\n",
       " 'C2H2 + OH <=> CH2CO + H',\n",
       " 'C2H2 + OH <=> H + HCCOH',\n",
       " 'C2H2 + OH <=> C2H + H2O',\n",
       " 'C2H2 + OH <=> CH3 + CO',\n",
       " 'C2H3 + OH <=> C2H2 + H2O',\n",
       " 'C2H4 + OH <=> C2H3 + H2O',\n",
       " 'C2H6 + OH <=> C2H5 + H2O',\n",
       " 'CH2CO + OH <=> H2O + HCCO',\n",
       " '2 HO2 <=> H2O2 + O2',\n",
       " '2 HO2 <=> H2O2 + O2',\n",
       " 'CH2 + HO2 <=> CH2O + OH',\n",
       " 'CH3 + HO2 <=> CH4 + O2',\n",
       " 'CH3 + HO2 <=> CH3O + OH',\n",
       " 'CO + HO2 <=> CO2 + OH',\n",
       " 'CH2O + HO2 <=> H2O2 + HCO',\n",
       " 'C + O2 <=> CO + O',\n",
       " 'C + CH2 <=> C2H + H',\n",
       " 'C + CH3 <=> C2H2 + H',\n",
       " 'CH + O2 <=> HCO + O',\n",
       " 'CH + H2 <=> CH2 + H',\n",
       " 'CH + H2O <=> CH2O + H',\n",
       " 'CH + CH2 <=> C2H2 + H',\n",
       " 'CH + CH3 <=> C2H3 + H',\n",
       " 'CH + CH4 <=> C2H4 + H',\n",
       " 'CH + CO (+M) <=> HCCO (+M)',\n",
       " 'CH + CO2 <=> CO + HCO',\n",
       " 'CH + CH2O <=> CH2CO + H',\n",
       " 'CH + HCCO <=> C2H2 + CO',\n",
       " 'CH2 + O2 => CO + H + OH',\n",
       " 'CH2 + H2 <=> CH3 + H',\n",
       " '2 CH2 <=> C2H2 + H2',\n",
       " 'CH2 + CH3 <=> C2H4 + H',\n",
       " 'CH2 + CH4 <=> 2 CH3',\n",
       " 'CH2 + CO (+M) <=> CH2CO (+M)',\n",
       " 'CH2 + HCCO <=> C2H3 + CO',\n",
       " 'CH2(S) + N2 <=> CH2 + N2',\n",
       " 'AR + CH2(S) <=> AR + CH2',\n",
       " 'CH2(S) + O2 <=> CO + H + OH',\n",
       " 'CH2(S) + O2 <=> CO + H2O',\n",
       " 'CH2(S) + H2 <=> CH3 + H',\n",
       " 'CH2(S) + H2O (+M) <=> CH3OH (+M)',\n",
       " 'CH2(S) + H2O <=> CH2 + H2O',\n",
       " 'CH2(S) + CH3 <=> C2H4 + H',\n",
       " 'CH2(S) + CH4 <=> 2 CH3',\n",
       " 'CH2(S) + CO <=> CH2 + CO',\n",
       " 'CH2(S) + CO2 <=> CH2 + CO2',\n",
       " 'CH2(S) + CO2 <=> CH2O + CO',\n",
       " 'C2H6 + CH2(S) <=> C2H5 + CH3',\n",
       " 'CH3 + O2 <=> CH3O + O',\n",
       " 'CH3 + O2 <=> CH2O + OH',\n",
       " 'CH3 + H2O2 <=> CH4 + HO2',\n",
       " '2 CH3 (+M) <=> C2H6 (+M)',\n",
       " '2 CH3 <=> C2H5 + H',\n",
       " 'CH3 + HCO <=> CH4 + CO',\n",
       " 'CH2O + CH3 <=> CH4 + HCO',\n",
       " 'CH3 + CH3OH <=> CH2OH + CH4',\n",
       " 'CH3 + CH3OH <=> CH3O + CH4',\n",
       " 'C2H4 + CH3 <=> C2H3 + CH4',\n",
       " 'C2H6 + CH3 <=> C2H5 + CH4',\n",
       " 'H2O + HCO <=> CO + H + H2O',\n",
       " 'HCO + M <=> CO + H + M',\n",
       " 'HCO + O2 <=> CO + HO2',\n",
       " 'CH2OH + O2 <=> CH2O + HO2',\n",
       " 'CH3O + O2 <=> CH2O + HO2',\n",
       " 'C2H + O2 <=> CO + HCO',\n",
       " 'C2H + H2 <=> C2H2 + H',\n",
       " 'C2H3 + O2 <=> CH2O + HCO',\n",
       " 'C2H4 (+M) <=> C2H2 + H2 (+M)',\n",
       " 'C2H5 + O2 <=> C2H4 + HO2',\n",
       " 'HCCO + O2 <=> 2 CO + OH',\n",
       " '2 HCCO <=> C2H2 + 2 CO',\n",
       " 'N + NO <=> N2 + O',\n",
       " 'N + O2 <=> NO + O',\n",
       " 'N + OH <=> H + NO',\n",
       " 'N2O + O <=> N2 + O2',\n",
       " 'N2O + O <=> 2 NO',\n",
       " 'H + N2O <=> N2 + OH',\n",
       " 'N2O + OH <=> HO2 + N2',\n",
       " 'N2O (+M) <=> N2 + O (+M)',\n",
       " 'HO2 + NO <=> NO2 + OH',\n",
       " 'NO + O + M <=> NO2 + M',\n",
       " 'NO2 + O <=> NO + O2',\n",
       " 'H + NO2 <=> NO + OH',\n",
       " 'NH + O <=> H + NO',\n",
       " 'H + NH <=> H2 + N',\n",
       " 'NH + OH <=> H + HNO',\n",
       " 'NH + OH <=> H2O + N',\n",
       " 'NH + O2 <=> HNO + O',\n",
       " 'NH + O2 <=> NO + OH',\n",
       " 'N + NH <=> H + N2',\n",
       " 'H2O + NH <=> H2 + HNO',\n",
       " 'NH + NO <=> N2 + OH',\n",
       " 'NH + NO <=> H + N2O',\n",
       " 'NH2 + O <=> NH + OH',\n",
       " 'NH2 + O <=> H + HNO',\n",
       " 'H + NH2 <=> H2 + NH',\n",
       " 'NH2 + OH <=> H2O + NH',\n",
       " 'NNH <=> H + N2',\n",
       " 'NNH + M <=> H + N2 + M',\n",
       " 'NNH + O2 <=> HO2 + N2',\n",
       " 'NNH + O <=> N2 + OH',\n",
       " 'NNH + O <=> NH + NO',\n",
       " 'H + NNH <=> H2 + N2',\n",
       " 'NNH + OH <=> H2O + N2',\n",
       " 'CH3 + NNH <=> CH4 + N2',\n",
       " 'H + NO + M <=> HNO + M',\n",
       " 'HNO + O <=> NO + OH',\n",
       " 'H + HNO <=> H2 + NO',\n",
       " 'HNO + OH <=> H2O + NO',\n",
       " 'HNO + O2 <=> HO2 + NO',\n",
       " 'CN + O <=> CO + N',\n",
       " 'CN + OH <=> H + NCO',\n",
       " 'CN + H2O <=> HCN + OH',\n",
       " 'CN + O2 <=> NCO + O',\n",
       " 'CN + H2 <=> H + HCN',\n",
       " 'NCO + O <=> CO + NO',\n",
       " 'H + NCO <=> CO + NH',\n",
       " 'NCO + OH <=> CO + H + NO',\n",
       " 'N + NCO <=> CO + N2',\n",
       " 'NCO + O2 <=> CO2 + NO',\n",
       " 'NCO + M <=> CO + N + M',\n",
       " 'NCO + NO <=> CO + N2O',\n",
       " 'NCO + NO <=> CO2 + N2',\n",
       " 'HCN + M <=> CN + H + M',\n",
       " 'HCN + O <=> H + NCO',\n",
       " 'HCN + O <=> CO + NH',\n",
       " 'HCN + O <=> CN + OH',\n",
       " 'HCN + OH <=> H + HOCN',\n",
       " 'HCN + OH <=> H + HNCO',\n",
       " 'HCN + OH <=> CO + NH2',\n",
       " 'H + HCN (+M) <=> H2CN (+M)',\n",
       " 'H2CN + N <=> CH2 + N2',\n",
       " 'C + N2 <=> CN + N',\n",
       " 'CH + N2 <=> HCN + N',\n",
       " 'CH + N2 (+M) <=> HCNN (+M)',\n",
       " 'CH2 + N2 <=> HCN + NH',\n",
       " 'CH2(S) + N2 <=> HCN + NH',\n",
       " 'C + NO <=> CN + O',\n",
       " 'C + NO <=> CO + N',\n",
       " 'CH + NO <=> HCN + O',\n",
       " 'CH + NO <=> H + NCO',\n",
       " 'CH + NO <=> HCO + N',\n",
       " 'CH2 + NO <=> H + HNCO',\n",
       " 'CH2 + NO <=> HCN + OH',\n",
       " 'CH2 + NO <=> H + HCNO',\n",
       " 'CH2(S) + NO <=> H + HNCO',\n",
       " 'CH2(S) + NO <=> HCN + OH',\n",
       " 'CH2(S) + NO <=> H + HCNO',\n",
       " 'CH3 + NO <=> H2O + HCN',\n",
       " 'CH3 + NO <=> H2CN + OH',\n",
       " 'HCNN + O <=> CO + H + N2',\n",
       " 'HCNN + O <=> HCN + NO',\n",
       " 'HCNN + O2 <=> HCO + N2 + O',\n",
       " 'HCNN + OH <=> H + HCO + N2',\n",
       " 'H + HCNN <=> CH2 + N2',\n",
       " 'HNCO + O <=> CO2 + NH',\n",
       " 'HNCO + O <=> CO + HNO',\n",
       " 'HNCO + O <=> NCO + OH',\n",
       " 'H + HNCO <=> CO + NH2',\n",
       " 'H + HNCO <=> H2 + NCO',\n",
       " 'HNCO + OH <=> H2O + NCO',\n",
       " 'HNCO + OH <=> CO2 + NH2',\n",
       " 'HNCO + M <=> CO + NH + M',\n",
       " 'H + HCNO <=> H + HNCO',\n",
       " 'H + HCNO <=> HCN + OH',\n",
       " 'H + HCNO <=> CO + NH2',\n",
       " 'H + HOCN <=> H + HNCO',\n",
       " 'HCCO + NO <=> CO + HCNO',\n",
       " 'CH3 + N <=> H + H2CN',\n",
       " 'CH3 + N <=> H2 + HCN',\n",
       " 'H + NH3 <=> H2 + NH2',\n",
       " 'NH3 + OH <=> H2O + NH2',\n",
       " 'NH3 + O <=> NH2 + OH',\n",
       " 'CO2 + NH <=> CO + HNO',\n",
       " 'CN + NO2 <=> NCO + NO',\n",
       " 'NCO + NO2 <=> CO2 + N2O',\n",
       " 'CO2 + N <=> CO + NO',\n",
       " 'CH3 + O => CO + H + H2',\n",
       " 'C2H4 + O <=> CH2CHO + H',\n",
       " 'C2H5 + O <=> CH3CHO + H',\n",
       " 'HO2 + OH <=> H2O + O2',\n",
       " 'CH3 + OH => CH2O + H2',\n",
       " 'CH + H2 (+M) <=> CH3 (+M)',\n",
       " 'CH2 + O2 => CO2 + 2 H',\n",
       " 'CH2 + O2 <=> CH2O + O',\n",
       " '2 CH2 => C2H2 + 2 H',\n",
       " 'CH2(S) + H2O => CH2O + H2',\n",
       " 'C2H3 + O2 <=> CH2CHO + O',\n",
       " 'C2H3 + O2 <=> C2H2 + HO2',\n",
       " 'CH3CHO + O <=> CH2CHO + OH',\n",
       " 'CH3CHO + O => CH3 + CO + OH',\n",
       " 'CH3CHO + O2 => CH3 + CO + HO2',\n",
       " 'CH3CHO + H <=> CH2CHO + H2',\n",
       " 'CH3CHO + H => CH3 + CO + H2',\n",
       " 'CH3CHO + OH => CH3 + CO + H2O',\n",
       " 'CH3CHO + HO2 => CH3 + CO + H2O2',\n",
       " 'CH3 + CH3CHO => CH3 + CH4 + CO',\n",
       " 'CH2CO + H (+M) <=> CH2CHO (+M)',\n",
       " 'CH2CHO + O => CH2 + CO2 + H',\n",
       " 'CH2CHO + O2 => CH2O + CO + OH',\n",
       " 'CH2CHO + O2 => 2 HCO + OH',\n",
       " 'CH2CHO + H <=> CH3 + HCO',\n",
       " 'CH2CHO + H <=> CH2CO + H2',\n",
       " 'CH2CHO + OH <=> CH2CO + H2O',\n",
       " 'CH2CHO + OH <=> CH2OH + HCO',\n",
       " 'C2H5 + CH3 (+M) <=> C3H8 (+M)',\n",
       " 'C3H8 + O <=> C3H7 + OH',\n",
       " 'C3H8 + H <=> C3H7 + H2',\n",
       " 'C3H8 + OH <=> C3H7 + H2O',\n",
       " 'C3H7 + H2O2 <=> C3H8 + HO2',\n",
       " 'C3H8 + CH3 <=> C3H7 + CH4',\n",
       " 'C2H4 + CH3 (+M) <=> C3H7 (+M)',\n",
       " 'C3H7 + O <=> C2H5 + CH2O',\n",
       " 'C3H7 + H (+M) <=> C3H8 (+M)',\n",
       " 'C3H7 + H <=> C2H5 + CH3',\n",
       " 'C3H7 + OH <=> C2H5 + CH2OH',\n",
       " 'C3H7 + HO2 <=> C3H8 + O2',\n",
       " 'C3H7 + HO2 => C2H5 + CH2O + OH',\n",
       " 'C3H7 + CH3 <=> 2 C2H5']"
      ]
     },
     "execution_count": 3,
     "metadata": {},
     "output_type": "execute_result"
    }
   ],
   "source": [
    "gas.reaction_equations()"
   ]
  },
  {
   "cell_type": "markdown",
   "metadata": {},
   "source": [
    "That is quite a long list! The equation for a specific reaction can be listed with the \n",
    "\n",
    "``` python \n",
    "reaction_equation(rxn_number) \n",
    "    ``` \n",
    "function, where the integer input refers to the number of the reaction in the list."
   ]
  },
  {
   "cell_type": "code",
   "execution_count": 4,
   "metadata": {},
   "outputs": [
    {
     "data": {
      "text/plain": [
       "'CO + O (+M) <=> CO2 (+M)'"
      ]
     },
     "execution_count": 4,
     "metadata": {},
     "output_type": "execute_result"
    }
   ],
   "source": [
    "gas.reaction_equation(11)"
   ]
  },
  {
   "cell_type": "markdown",
   "metadata": {},
   "source": [
    "The type of the reaction can be examine with\n",
    "\n",
    "```python\n",
    "reaction_type(rxn_number)\n",
    "```\n",
    " function.  This function will provide an integer.  The meaning of this integer is shown in the table below.  \n",
    "\n",
    "| Reaction Type Integer | Reaction Type | Example |\n",
    "| ---------- | ---- | ---- |\n",
    "| 1 | Elementary | H + O $\\leftrightarrow$ OH |\n",
    "| 2 | Three Body | H + H + M $\\leftrightarrow$ H2 + M |\n",
    "| 4 | Fall Off   | CH3 + H (+M) $\\leftrightarrow$  CH4 (+M) |\n",
    "| 8 | Chemically Activated Bimolecular | Si + SiH4 (+M) $\\leftrightarrow$ Si2H2 + H2 (+M) |"
   ]
  },
  {
   "cell_type": "code",
   "execution_count": 5,
   "metadata": {},
   "outputs": [
    {
     "data": {
      "text/plain": [
       "4"
      ]
     },
     "execution_count": 5,
     "metadata": {},
     "output_type": "execute_result"
    }
   ],
   "source": [
    "gas.reaction_type(11)"
   ]
  },
  {
   "cell_type": "markdown",
   "metadata": {},
   "source": [
    "### Reaction Rates Constants"
   ]
  },
  {
   "cell_type": "markdown",
   "metadata": {},
   "source": [
    "The forward and reverse rate constants for all reactions be accessed with \n",
    "```python\n",
    "   .forward_rate_constants\n",
    "   .reverse_rate_constants\n",
    "```\n",
    "arrays.  Both of these are arrays return the rate constant for each reaction on a **molar** basis.  The precise units are dependent on the overrall order of the reaction.  The order of the list corresponds to the order in the full reaction equation list."
   ]
  },
  {
   "cell_type": "code",
   "execution_count": 6,
   "metadata": {},
   "outputs": [
    {
     "data": {
      "text/plain": [
       "array([3.89971084e+07, 1.35406626e+08, 5.19544737e+03, 2.00000000e+10,\n",
       "       1.05664534e+06, 5.70000000e+10, 8.00000000e+10, 1.50000000e+10,\n",
       "       1.50000000e+10, 5.06000000e+10, 2.87946638e+03, 1.62105926e+05,\n",
       "       3.00000000e+10, 3.00000000e+10, 1.02855638e+08, 1.00000000e+10,\n",
       "       1.00000000e+10, 3.33681176e+06, 4.61659786e+04, 5.00000000e+10,\n",
       "       5.01712579e+07, 1.20331502e-08, 2.57917429e+07, 3.00000000e+10,\n",
       "       2.94968224e+08, 2.24000000e+10, 3.66665568e+05, 1.00000000e+11,\n",
       "       1.48634933e+04, 1.81795634e+08, 3.77018215e-26, 7.25444939e-19,\n",
       "       8.42548529e+08, 1.76373356e+10, 1.47545591e+11, 2.20466695e+10,\n",
       "       7.30131417e+09, 2.22704843e-01, 0.00000000e+00, 2.93744509e+09,\n",
       "       4.80562283e+10, 6.11111111e+09, 7.24876807e+09, 1.28818176e+09,\n",
       "       7.46889154e+09, 2.89528541e+10, 1.77380739e+05, 2.38481339e+07,\n",
       "       1.65000000e+11, 5.25749467e+10, 3.00000000e+10, 2.26238025e+11,\n",
       "       8.62390921e+01, 1.25265111e+10, 7.34000000e+10, 1.17946473e+07,\n",
       "       1.27499016e+07, 2.93722159e+07, 1.46669273e+09, 2.00000000e+10,\n",
       "       1.08268587e+10, 7.05597687e+09, 7.53663848e+05, 1.79535699e+07,\n",
       "       2.00000000e+10, 3.12453378e+10, 1.17242365e+10, 7.66800079e+05,\n",
       "       1.89444725e+05, 2.79064849e+11, 9.32904096e+07, 1.25140025e+10,\n",
       "       3.00000000e+10, 3.26060367e+08, 2.96946093e+00, 8.45495553e+10,\n",
       "       2.00000000e+09, 1.91309710e+04, 1.00000000e+11, 7.43174664e+04,\n",
       "       3.59610402e+07, 1.00000000e+10, 1.22851407e-50, 3.76880509e+06,\n",
       "       3.85104524e+09, 1.08358340e+09, 3.35436599e+10, 9.77162852e+08,\n",
       "       6.39305362e-07, 5.00000000e+10, 3.00000000e+10, 2.00000000e+10,\n",
       "       6.63538745e+06, 3.00000000e+10, 6.92153100e+10, 5.79687504e+04,\n",
       "       2.86602714e+10, 4.90366909e+06, 4.66141652e+07, 5.00000000e+10,\n",
       "       6.08036914e+09, 5.00000000e+09, 5.00000000e+09, 5.30313042e+08,\n",
       "       4.57989716e+07, 2.00000000e+10, 1.63676763e+05, 3.67505147e-02,\n",
       "       1.91903975e-01, 1.12047437e+05, 5.00000000e+09, 4.89026945e+06,\n",
       "       1.46797436e+08, 2.61873460e+08, 2.00158354e+09, 7.61080556e+02,\n",
       "       2.00000000e+10, 1.00000000e+09, 3.78000000e+10, 9.63491500e-07,\n",
       "       9.13296668e-01, 2.20709333e+10, 5.00000000e+10, 5.00000000e+10,\n",
       "       6.71000000e+10, 5.85916532e+08, 2.02601287e+10, 4.00000000e+10,\n",
       "       3.00000000e+10, 6.00000000e+10, 1.48995803e+10, 5.95004486e-01,\n",
       "       2.24419636e+11, 5.00000000e+10, 4.03871002e+08, 2.43369847e+02,\n",
       "       3.18490493e+03, 4.00000000e+10, 2.09222115e+02, 6.21856511e+06,\n",
       "       3.00000000e+10, 5.48277376e+09, 3.28966426e+09, 2.80000000e+10,\n",
       "       1.20000000e+10, 7.00000000e+10, 5.84950881e+10, 3.00000000e+10,\n",
       "       3.12189026e+10, 4.16252034e+10, 9.00000000e+09, 7.00000000e+09,\n",
       "       1.40000000e+10, 1.00629816e+11, 2.22449069e-12, 3.66810254e-06,\n",
       "       5.42130524e+03, 2.67063313e+10, 2.29524161e+02, 2.64800000e+10,\n",
       "       1.63277884e+03, 8.94670966e+00, 2.98223655e+00, 4.05702227e+00,\n",
       "       3.05979456e+00, 2.06408177e+00, 2.09058781e-02, 6.87588064e+09,\n",
       "       3.97773737e+09, 1.06934283e+06, 3.54818365e+10, 3.40319694e+08,\n",
       "       3.00784029e+09, 5.53384841e-50, 1.26299125e+06, 7.63877791e+08,\n",
       "       1.00000000e+10, 1.48850956e+10, 4.96834778e+04, 1.76145923e+10,\n",
       "       1.86726686e+01, 3.96253240e-07, 6.82207152e-03, 9.10202956e-07,\n",
       "       2.30249163e-31, 4.72014350e+09, 2.76921110e+09, 5.83312093e+09,\n",
       "       7.21637962e+10, 4.00000000e+10, 1.83971252e+10, 2.00000000e+10,\n",
       "       1.87748079e+09, 7.63469442e+02, 5.62397476e+06, 1.50000000e+10,\n",
       "       1.62747486e+00, 5.81722501e+09, 2.80277542e+10, 3.00000000e+09,\n",
       "       3.90000000e+10, 8.77182882e+07, 1.01164337e+09, 3.30000000e+08,\n",
       "       1.32860670e+06, 5.00000000e+09, 2.50000000e+10, 7.00000000e+10,\n",
       "       5.00000000e+10, 2.00000000e+10, 2.50000000e+10, 5.65184585e+08,\n",
       "       2.50000000e+10, 1.80704841e+10, 3.25487549e+09, 3.38607402e+00,\n",
       "       7.70000000e+10, 4.00000000e+10, 2.94166164e+04, 1.28440422e+10,\n",
       "       8.07166148e+06, 2.35000000e+10, 5.40000000e+10, 2.50000000e+09,\n",
       "       2.00000000e+10, 5.38681702e-06, 1.06302783e-29, 9.42867088e+09,\n",
       "       1.10345131e+10, 3.35843903e-76, 1.65669059e+04, 4.13764595e+03,\n",
       "       1.34378659e-09, 2.13848334e-02, 3.79702472e+01, 9.75408189e-02,\n",
       "       1.68582571e+09, 3.06730735e+10, 1.88133431e-23, 1.02239917e-06,\n",
       "       2.02088311e+09, 1.23628398e-44, 4.45125260e-40, 1.90000000e+10,\n",
       "       2.90000000e+10, 4.10000000e+10, 1.62000000e+10, 2.46000000e+10,\n",
       "       1.40526605e+10, 1.58320013e+09, 1.84288701e+09, 1.40526605e+10,\n",
       "       1.58320013e+09, 1.84288701e+09, 1.00439939e-10, 1.43038739e-07,\n",
       "       2.20000000e+10, 2.00000000e+09, 1.20000000e+10, 1.20000000e+10,\n",
       "       1.00000000e+11, 1.95814790e+02, 1.02762942e-23, 1.83831867e+00,\n",
       "       6.23801011e+05, 3.35076073e-02, 4.08931177e+05, 4.08931177e+04,\n",
       "       1.83837207e-50, 3.44210169e+08, 2.15207611e+07, 1.85048962e+07,\n",
       "       6.28496304e+07, 9.00000000e+09, 6.39972965e+10, 1.01235668e+10,\n",
       "       2.84811224e+01, 9.26106523e+07, 1.18230822e+04, 3.51756271e-01,\n",
       "       4.73650764e+10, 1.06038898e+10, 1.75890350e+01, 3.37000000e+10,\n",
       "       1.58102968e+08, 1.09600000e+11, 1.18666159e+00, 2.63112568e+09,\n",
       "       2.00248927e+10, 4.68490362e+08, 1.93858081e+08, 1.97564793e+03,\n",
       "       1.36206571e+09, 1.55522940e+09, 2.47762072e+07, 1.40696137e+08,\n",
       "       1.40696137e+08, 9.08621704e-19, 2.71149220e+07, 2.71149220e+07,\n",
       "       9.74707899e+09, 6.20642010e+00, 3.20954142e+03, 9.21198702e+10,\n",
       "       1.50000000e+11, 1.81000000e+07, 2.35000000e+07, 2.20000000e+10,\n",
       "       1.10000000e+10, 1.20000000e+10, 3.01000000e+10, 9.40234970e+09,\n",
       "       1.64889281e+06, 3.09612161e+04, 1.89714469e+08, 1.66929956e+05,\n",
       "       6.10378794e+00, 1.60628101e+03, 9.64000000e+10, 3.33755003e+10,\n",
       "       2.42700142e+08, 2.41000000e+10, 5.31089054e+08, 2.41000000e+10,\n",
       "       3.10601045e+09])"
      ]
     },
     "execution_count": 6,
     "metadata": {},
     "output_type": "execute_result"
    }
   ],
   "source": [
    "gas.forward_rate_constants"
   ]
  },
  {
   "cell_type": "markdown",
   "metadata": {},
   "source": [
    "A rate constant for specific reaction in the array can be accessed with the particular element.  "
   ]
  },
  {
   "cell_type": "code",
   "execution_count": 7,
   "metadata": {},
   "outputs": [
    {
     "name": "stdout",
     "output_type": "stream",
     "text": [
      "for  CO + O (+M) <=> CO2 (+M) : kf =  162105.92613252508 kr =  5.428514737636617e-82\n"
     ]
    }
   ],
   "source": [
    "kf=gas.forward_rate_constants[11]\n",
    "kr=gas.reverse_rate_constants[11]\n",
    "print('for ', gas.reaction_equation(11), ': kf = ', kf, 'kr = ', kr)"
   ]
  },
  {
   "cell_type": "markdown",
   "metadata": {},
   "source": [
    "### Reaction Rates of Progress"
   ]
  },
  {
   "cell_type": "markdown",
   "metadata": {},
   "source": [
    "the forward, reverse, and net rate of progress on a **molar** basis for all reactions can be accessed by the arrays: \n",
    "\n",
    "```python\n",
    "forward_rates_of_progress\n",
    "reverse_rates_of_progress\n",
    "net_rates_of_progress\n",
    "```\n",
    "The units are *always* kmol/m$^3$ s. "
   ]
  },
  {
   "cell_type": "code",
   "execution_count": 8,
   "metadata": {},
   "outputs": [
    {
     "name": "stdout",
     "output_type": "stream",
     "text": [
      "for  CO + O (+M) <=> CO2 (+M) : RRf =  0.0 RRr =  4.618710240547512e-09 RR net =  -4.618710240547512e-09  kmol/m^3 s\n"
     ]
    }
   ],
   "source": [
    "gas.TPX = 1500, 101325, {'CO2':1}\n",
    "RRf = gas.forward_rates_of_progress[11]\n",
    "RRr = gas.reverse_rates_of_progress[11]\n",
    "RRn = gas.net_rates_of_progress[11]\n",
    "\n",
    "print('for ', gas.reaction_equation(11), ': RRf = ', RRf, \n",
    "      'RRr = ', RRr, 'RR net = ', RRn, ' kmol/m^3 s')"
   ]
  },
  {
   "cell_type": "markdown",
   "metadata": {},
   "source": [
    "### Molar Rates Production"
   ]
  },
  {
   "cell_type": "markdown",
   "metadata": {},
   "source": [
    "The molar rates of production for each species can be accessed by the following arrays: \n",
    "\n",
    "```python\n",
    "creation_rates\n",
    "destruction_rates\n",
    "net_production_rates\n",
    "```  \n",
    "The units are always on a **molar** basis with *kmol/m$^3$ s*. \n",
    "\n",
    "\n",
    "The full array of each net production rate for each species is "
   ]
  },
  {
   "cell_type": "code",
   "execution_count": 9,
   "metadata": {},
   "outputs": [
    {
     "data": {
      "text/plain": [
       "array([ 0.00000000e+00,  0.00000000e+00,  4.61871024e-09,  0.00000000e+00,\n",
       "        0.00000000e+00,  0.00000000e+00,  0.00000000e+00,  0.00000000e+00,\n",
       "        0.00000000e+00,  0.00000000e+00,  0.00000000e+00,  0.00000000e+00,\n",
       "        0.00000000e+00,  0.00000000e+00,  4.61871024e-09, -4.61871024e-09,\n",
       "        0.00000000e+00,  0.00000000e+00,  0.00000000e+00,  0.00000000e+00,\n",
       "        0.00000000e+00,  0.00000000e+00,  0.00000000e+00,  0.00000000e+00,\n",
       "        0.00000000e+00,  0.00000000e+00,  0.00000000e+00,  0.00000000e+00,\n",
       "        0.00000000e+00,  0.00000000e+00,  0.00000000e+00,  0.00000000e+00,\n",
       "        0.00000000e+00,  0.00000000e+00,  0.00000000e+00,  0.00000000e+00,\n",
       "        0.00000000e+00,  0.00000000e+00,  0.00000000e+00,  0.00000000e+00,\n",
       "        0.00000000e+00,  0.00000000e+00,  0.00000000e+00,  0.00000000e+00,\n",
       "        0.00000000e+00,  0.00000000e+00,  0.00000000e+00,  0.00000000e+00,\n",
       "        0.00000000e+00,  0.00000000e+00,  0.00000000e+00,  0.00000000e+00,\n",
       "        0.00000000e+00])"
      ]
     },
     "execution_count": 9,
     "metadata": {},
     "output_type": "execute_result"
    }
   ],
   "source": [
    "gas.net_production_rates"
   ]
  },
  {
   "cell_type": "markdown",
   "metadata": {},
   "source": [
    "The production rate for a particular species can be accessed using its species index. "
   ]
  },
  {
   "cell_type": "code",
   "execution_count": 10,
   "metadata": {},
   "outputs": [
    {
     "name": "stdout",
     "output_type": "stream",
     "text": [
      "The CO2 rate of creation, destruction, and net production are 0.0 4.618710240547512e-09 -4.618710240547512e-09 kmol/m^3 s\n"
     ]
    }
   ],
   "source": [
    "nCO2 = gas.species_index('CO2')\n",
    "cRate = gas.creation_rates[nCO2]\n",
    "dRate = gas.destruction_rates[nCO2]\n",
    "pRate = gas.net_production_rates[nCO2]\n",
    "\n",
    "print('The CO2 rate of creation, destruction, and net production are', cRate, dRate, pRate, 'kmol/m^3 s')"
   ]
  },
  {
   "cell_type": "markdown",
   "metadata": {},
   "source": [
    "The mass production rate for each species can be computed via:\n",
    "\n",
    "$\\dot{\\omega}_i = \\overline{\\dot{\\omega}}_i MW_i$"
   ]
  },
  {
   "cell_type": "code",
   "execution_count": 11,
   "metadata": {},
   "outputs": [
    {
     "name": "stdout",
     "output_type": "stream",
     "text": [
      "The net mass production rate of CO2 is -2.0326481897625546e-07 kg/m$^3$ s\n"
     ]
    }
   ],
   "source": [
    "MW_CO2 = gas.molecular_weights[nCO2]\n",
    "omegaBar_CO2 = gas.net_production_rates[nCO2]\n",
    "\n",
    "print('The net mass production rate of CO2 is', MW_CO2*omegaBar_CO2, 'kg/m$^3$ s')"
   ]
  },
  {
   "cell_type": "markdown",
   "metadata": {},
   "source": [
    "Lets equilibrate the mixture and ensure that the net molar rates of production are effectively zero. "
   ]
  },
  {
   "cell_type": "code",
   "execution_count": 12,
   "metadata": {},
   "outputs": [
    {
     "name": "stdout",
     "output_type": "stream",
     "text": [
      "[ 0.00000000e+00  0.00000000e+00 -3.20505224e-23 -1.03533892e-24\n",
      "  0.00000000e+00  0.00000000e+00  0.00000000e+00  0.00000000e+00\n",
      "  2.66322939e-39  0.00000000e+00  0.00000000e+00  0.00000000e+00\n",
      "  0.00000000e+00  0.00000000e+00 -3.41212003e-23  3.41212003e-23\n",
      "  0.00000000e+00  0.00000000e+00  0.00000000e+00  0.00000000e+00\n",
      "  0.00000000e+00  0.00000000e+00  0.00000000e+00  0.00000000e+00\n",
      "  0.00000000e+00  0.00000000e+00  0.00000000e+00  0.00000000e+00\n",
      "  0.00000000e+00  0.00000000e+00  0.00000000e+00  0.00000000e+00\n",
      "  0.00000000e+00  0.00000000e+00  0.00000000e+00  0.00000000e+00\n",
      "  0.00000000e+00  0.00000000e+00  0.00000000e+00  0.00000000e+00\n",
      "  0.00000000e+00  0.00000000e+00  0.00000000e+00  0.00000000e+00\n",
      "  0.00000000e+00  0.00000000e+00  0.00000000e+00  0.00000000e+00\n",
      "  0.00000000e+00  0.00000000e+00  0.00000000e+00  0.00000000e+00\n",
      "  0.00000000e+00]\n"
     ]
    }
   ],
   "source": [
    "gas.equilibrate('HP')\n",
    "print(gas.net_production_rates)\n"
   ]
  },
  {
   "cell_type": "markdown",
   "metadata": {},
   "source": [
    "## Constant Volume Adiabatic Reactor"
   ]
  },
  {
   "cell_type": "markdown",
   "metadata": {},
   "source": [
    "In class we will show that the differential equations describing the evolution of species mass fractions and temperature for constant volume adiabatic reactor are:\n",
    "\n",
    "$\\frac{d Y_i}{dt} =\\frac{\\dot{\\omega_i}}{\\rho}, \\ \\ \\ i = 1, \\cdots N$\n",
    "\n",
    "$\\frac{d T}{dt} = \\frac{- \\sum u_i \\dot{\\omega}_i}{\\rho Cv_{\\text{mix}}}$\n",
    "\n",
    "These equations will be integrated using the stiff ODE solver from Python and Cantera to evaluate the net rate of production for each species, internal energies for each species, and the mixture specific heat.  An issue to be aware of is that Cantera returns the species rate of production only on a molar basis.  However, \n",
    "\n",
    "$\\overline{u}_i = u_i MW_i; \\ \\ \\ \\overline{\\dot{\\omega}}_i = \\dot{\\omega}_i/MW_i$,\n",
    "\n",
    "Thus\n",
    "\n",
    "$ u_i \\dot{\\omega}_i = \\overline{u}_i \\overline{\\dot{\\omega}}_i$,\n",
    "\n",
    "and the temperature and mass fraction equations that we will actually solve is\n",
    "\n",
    "$\\frac{d T}{dt} = \\frac{- \\sum \\overline{u}_i \\overline{\\dot{\\omega}}_i}{\\rho Cv_{\\text{mix}}}$\n",
    "\n",
    "$\\frac{d Y_i}{dt} =\\frac{\\overline{\\dot{\\omega}_i} MW_i}{\\rho}, \\ \\ \\ i = 1, \\cdots N$\n",
    "\n",
    "To solve the system of ODEs for the constant volume reactor, we first must define a function that computes the time derivatives for the mass fractions and temperature.  (The below function looks long, but most of the lines are comments. There are only 13 active lines of code.)"
   ]
  },
  {
   "cell_type": "code",
   "execution_count": 13,
   "metadata": {},
   "outputs": [],
   "source": [
    "def CV_Reactor_RHS(t,y,gas,density):\n",
    "    # t = time\n",
    "    # y = the solution vector: y[0] = temperature, y[1:nSpecies] = mass fractions\n",
    "    \n",
    "    dy = np.zeros(np.size(y)) # initialize the RHS vector\n",
    "    \n",
    "    \n",
    "    # get T and Y_i from the solution vector.\n",
    "    # T is the first (0) index of the solution array y[0]\n",
    "    # all indexes after 0, y[1:], are the mass fractions\n",
    "    T = y[0];\n",
    "    massFrac = y[1:];\n",
    "\n",
    "    # Now we set the species composition.  Here we use a special version that \n",
    "    # does not normalize the mass fractions to sum to unity.  Solving systems\n",
    "    # of ODEs like this are one of the few cases where you do not want\n",
    "    # to normalize the mass fractions.  \n",
    "    \n",
    "    # Swagnik, in case you get a question: This has to do with computing the\n",
    "    # Jacobian using finite differences.  If Y_i were normalized than perturbing one\n",
    "    # will perturb all of the others, which messes up the Jacobian computation. \n",
    "    gas.set_unnormalized_mass_fractions(massFrac)\n",
    "    \n",
    "    # set the state using the density (density is constant for this case, \n",
    "    # but pressure is not.  So we have to set the thermodynamic state using \n",
    "    # the temperature and density. )\n",
    "    gas.TD=T, density #gas.density_mass\n",
    "    \n",
    "\n",
    "    \n",
    "\n",
    "    # Now that the thermodynamic state is set, we can compute the chemical\n",
    "    # rate of production, species internal energies, cv, etc. \n",
    "    wdot = gas.net_production_rates      # get the species MOLAR production rate\n",
    "    mws  = gas.molecular_weights         # get the species MW_i\n",
    "    ui = gas.partial_molar_int_energies  # get the species internal energy on a MOLAR basis\n",
    "    cv = gas.cv_mass                     # get the mixture CV on a MASS basis\n",
    "        \n",
    "    # form the RHS for a CV adiabatic reactor\n",
    "    dTdt = -np.sum(wdot*ui)/(density*cv)   # the sum function sums elements over an array\n",
    "                                           # you don't need the .* as in Matlab\n",
    "    dYdt = wdot*mws/density\n",
    "    \n",
    "    # stuff the temperature and mass fraction time derivatives into an array\n",
    "    dy[0 ] = dTdt\n",
    "    dy[1:] = dYdt\n",
    "    \n",
    "    return dy"
   ]
  },
  {
   "cell_type": "markdown",
   "metadata": {},
   "source": [
    "For convenience, we will define a function that integrates the CV reactor.  Similar to the equilibrate function, the initial conditions are set based on the gas state that is an input to the function"
   ]
  },
  {
   "cell_type": "code",
   "execution_count": 14,
   "metadata": {},
   "outputs": [],
   "source": [
    "def integrate_CV_reactor(gas, tEnd,atol=1.e-10, rtol=1.e-8):\n",
    "    rho = gas.density_mass # compute the density on a mass basis\n",
    "\n",
    "    # set the initial conditions for the reactor\n",
    "    y =  np.zeros(gas.n_species+1) \n",
    "    y[0] = gas.T\n",
    "    y[1:] = gas.Y\n",
    "\n",
    "    # solve the ODEs for the CV reactor.  This is equivalent to ode15s in Matlab.\n",
    "    soln = integrate.solve_ivp(fun=lambda t, y: CV_Reactor_RHS(t,y,gas,rho), \n",
    "                               t_span=[0,tEnd],y0=y,method='BDF',rtol=rtol,atol=atol);\n",
    "    return soln"
   ]
  },
  {
   "cell_type": "markdown",
   "metadata": {},
   "source": [
    "Now we integrate a CV reactor with a stochiometric mixture of methane and oxygen at 1500 K and 1 atm."
   ]
  },
  {
   "cell_type": "code",
   "execution_count": 15,
   "metadata": {},
   "outputs": [
    {
     "name": "stdout",
     "output_type": "stream",
     "text": [
      "0.2167562193855446 101325.0\n"
     ]
    }
   ],
   "source": [
    "# The initial conditions are based on the gas state.\n",
    "\n",
    "gas.TPX = 1500, 101325, {'CH4':1, 'O2':2}\n",
    "\n",
    "print(gas.density_mass, gas.P)\n",
    "\n",
    "# now integrate the ODEs\n",
    "soln = integrate_CV_reactor(gas, 30.)"
   ]
  },
  {
   "cell_type": "markdown",
   "metadata": {},
   "source": [
    "The cell below defines integers that access selected variables in the solution array from that CV reactor solution.  A variable can be accessed by:  \n",
    "\n",
    "```python \n",
    "soln.y[variable_index, time_index]\n",
    "```\n",
    "\n",
    "The time can be accessed by:\n",
    "\n",
    "```python\n",
    "soln.t[time_index]\n",
    "```\n",
    "\n",
    "All of the times can be accessed using the colon operator (similar to matlab)\n",
    "\n",
    "```python\n",
    "soln.t[:]\n",
    "soln.y[variable_index,:]\n",
    "   ```\n",
    "\n",
    "The variable indexes are:\n",
    "\n",
    "| variable index | variable |\n",
    "| --- | --- |\n",
    "| 0 | Temperature |\n",
    "| 1 | Species 0 |\n",
    "| 2 | Species 1 |\n",
    "| 3 | Species 2 |\n",
    "| ... | ... |\n",
    "| N+1 | Species N |\n",
    "\n",
    "the variable index for a particular species can be found by:\n",
    "\n",
    "```python\n",
    "species_variable_index = gas.species_index(species_name) + 1\n",
    "    ```\n",
    "    \n",
    "Below we define some variable indices for plotting the solution."
   ]
  },
  {
   "cell_type": "code",
   "execution_count": 16,
   "metadata": {},
   "outputs": [],
   "source": [
    "temp_index = 0\n",
    "OH_index = gas.species_index('OH') + 1 \n",
    "H2O_index = gas.species_index('H2O') + 1\n",
    "CO2_index = gas.species_index('CO2') + 1\n",
    "CH4_index = gas.species_index('CH4') + 1\n",
    "O2_index = gas.species_index('O2') + 1"
   ]
  },
  {
   "cell_type": "code",
   "execution_count": 17,
   "metadata": {},
   "outputs": [
    {
     "data": {
      "image/png": "[encoded data removed]",
      "text/plain": [
       "<Figure size 432x288 with 1 Axes>"
      ]
     },
     "metadata": {
      "needs_background": "light"
     },
     "output_type": "display_data"
    },
    {
     "data": {
      "image/png": "[encoded data removed]",
      "text/plain": [
       "<Figure size 432x288 with 1 Axes>"
      ]
     },
     "metadata": {
      "needs_background": "light"
     },
     "output_type": "display_data"
    }
   ],
   "source": [
    "# Now plot the solution.  Note: Cantera works in SI units, but I convert to ms in the line below. \n",
    "plt.semilogx(soln.t*1000, soln.y[temp_index,:])\n",
    "plt.xlabel('time (ms)')\n",
    "plt.ylabel('Temperature (K)')\n",
    "plt.show()\n",
    "\n",
    "\n",
    "# The first plot isn't very useful... even on a semilogx-scale... Lets zoom in to where the action is. \n",
    "plt.plot(soln.t*1000, soln.y[temp_index,:])\n",
    "plt.xlim(.20, .28)\n",
    "plt.xlabel('time (ms)')\n",
    "plt.ylabel('Temperature (K)')\n",
    "plt.show()\n",
    "\n",
    "    \n"
   ]
  },
  {
   "cell_type": "code",
   "execution_count": 18,
   "metadata": {},
   "outputs": [
    {
     "data": {
      "image/png": "[encoded data removed]",
      "text/plain": [
       "<Figure size 432x288 with 1 Axes>"
      ]
     },
     "metadata": {
      "needs_background": "light"
     },
     "output_type": "display_data"
    }
   ],
   "source": [
    "plt.semilogy(soln.t*1000,soln.y[OH_index,:], label = 'OH')\n",
    "plt.semilogy(soln.t*1000, soln.y[H2O_index,:], label = 'H$_2$O')\n",
    "plt.semilogy(soln.t*1000, soln.y[CO2_index,:], label = 'CO$_2$')\n",
    "plt.semilogy(soln.t*1000, soln.y[CH4_index,:], label = 'CH$_4$')\n",
    "plt.semilogy(soln.t*1000, soln.y[O2_index,:],  label = 'O$_2$')\n",
    "# For annotating the plot, please use either a legend or annotatations\n",
    "plt.legend(loc=\"best\", bbox_to_anchor=[.9, .5],\n",
    "           ncol=1, shadow=True,  fancybox=True,fontsize='medium')\n",
    "plt.xlim(.20, .28)\n",
    "plt.ylim(1.E-5, 1)\n",
    "plt.xlabel('time (ms)')\n",
    "plt.ylabel('mass fraction')\n",
    "plt.show()"
   ]
  },
  {
   "cell_type": "markdown",
   "metadata": {},
   "source": [
    "### Other Diagnostics for Reactors"
   ]
  },
  {
   "cell_type": "markdown",
   "metadata": {},
   "source": [
    "Somtimes it is desirable to compute the pressure, the heat release rate, or the ignition delay time for the constant volume reactor.  Below are some post-processing functions that are defined for this purpose.  "
   ]
  },
  {
   "cell_type": "code",
   "execution_count": 19,
   "metadata": {},
   "outputs": [],
   "source": [
    "def P_heat_release_CV_Reactor(soln, gas):\n",
    "    # Compute the pressure and rate of heat release based on the solution\n",
    "    # to a CV reactor\n",
    "    \n",
    "    # find the number of time points and pre-allocate an array\n",
    "    npt = len(soln.t)\n",
    "    p_hr = np.zeros((2,npt))\n",
    "    \n",
    "    # loop over over each time, set the gas composition and compute the pressure.  \n",
    "    for i in range(npt):\n",
    "        # set the gas composition.  Note: the y[1:,i] grabs all elements in the array after 1\n",
    "        gas.TDY = soln.y[0,i], gas.density_mass, soln.y[1:,i] \n",
    "        p = gas.P # compute the pressure\n",
    "        \n",
    "        # compute the chemical heat release rate\n",
    "        hr = -np.sum(gas.net_production_rates*gas.partial_molar_int_energies)\n",
    "        \n",
    "        # store the pressure and heat release rate\n",
    "        p_hr[0,i] = p\n",
    "        p_hr[1,i] = hr\n",
    "        \n",
    "    return p_hr\n",
    "\n",
    "def compute_CV_ignition_delay(gas,soln, tShift = 600.):\n",
    "    # compute the ignition delay time from the solution to a CV reactor.  \n",
    "    # this is (crudely) based on the time when the temperatur increases \n",
    "    # by a specified value from the initial reactant temperature\n",
    "    npt = len(soln.t)    \n",
    "    tInit = soln.y[0,0]\n",
    "    \n",
    "    for i in range(npt):\n",
    "        if (soln.y[0,i] > tInit + tShift):\n",
    "            break\n",
    "            \n",
    "    t_ign = soln.t[i]\n",
    "    \n",
    "    return t_ign"
   ]
  },
  {
   "cell_type": "markdown",
   "metadata": {},
   "source": [
    "Now we use the solution computed above and our post-processing functions to compute the pressure and ignition delay time for the reactor."
   ]
  },
  {
   "cell_type": "code",
   "execution_count": 20,
   "metadata": {},
   "outputs": [
    {
     "data": {
      "image/png": "[encoded data removed]",
      "text/plain": [
       "<Figure size 432x288 with 1 Axes>"
      ]
     },
     "metadata": {
      "needs_background": "light"
     },
     "output_type": "display_data"
    },
    {
     "data": {
      "image/png": "[encoded data removed]",
      "text/plain": [
       "<Figure size 432x288 with 1 Axes>"
      ]
     },
     "metadata": {
      "needs_background": "light"
     },
     "output_type": "display_data"
    }
   ],
   "source": [
    "# Compute the pressure and heat release based on the solution to the CV reactor\n",
    "p_hr = P_heat_release_CV_Reactor(soln, gas)\n",
    "plt.plot(soln.t*1000, p_hr[0,:]/101325)\n",
    "plt.xlim(.20, .28)\n",
    "plt.xlabel('time (ms)')\n",
    "plt.ylabel('Pressure (atm)')\n",
    "plt.show()\n",
    "\n",
    "plt.plot(soln.t*1000, p_hr[1,:]/1E6)\n",
    "plt.xlim(.20, .28)\n",
    "plt.xlabel('time (ms)')\n",
    "plt.ylabel('heat release rate (MJ/s m$^3$)')\n",
    "plt.show()"
   ]
  },
  {
   "cell_type": "code",
   "execution_count": 21,
   "metadata": {},
   "outputs": [
    {
     "name": "stdout",
     "output_type": "stream",
     "text": [
      "The ignition delay time is  0.2680741827738881  ms\n"
     ]
    }
   ],
   "source": [
    "tIgn = compute_CV_ignition_delay(gas,soln, tShift = 600.)\n",
    "print('The ignition delay time is ', tIgn*1000, ' ms')"
   ]
  },
  {
   "cell_type": "markdown",
   "metadata": {},
   "source": [
    "Below is an example of sweeping over a range of initial temperatures to find the ignition delay time as a function of initial temperature. The following loop can take quite awhile to execute so be patient.   The results are plotted on an Arrhenius-style plot.  The temperature-time trace is also plotted for several initial temperatures."
   ]
  },
  {
   "cell_type": "code",
   "execution_count": null,
   "metadata": {},
   "outputs": [],
   "source": [
    "npts = 30\n",
    "\n",
    "tInit = np.linspace(1000, 2000,npts)\n",
    "tIgn = np.zeros(npts)\n",
    "\n",
    "for i in range(npts):\n",
    "    #print(i)\n",
    "    # The initial conditions are based on the gas state.\n",
    "    gas.TPX = tInit[i], 101325, {'CH4':1, 'O2':2}\n",
    "\n",
    "# now integrate the ODEs\n",
    "    soln = integrate_CV_reactor(gas, 30.)\n",
    "\n",
    "    if (i%5 == 0):\n",
    "        plt.semilogx(soln.t,soln.y[0,:],label=tInit[i])\n",
    "    \n",
    "    tIgn[i] = compute_CV_ignition_delay(gas,soln, tShift = 600.)\n",
    "\n",
    "plt.xlabel('time (s)')\n",
    "plt.ylabel('Temperature (K)')\n",
    "plt.show()"
   ]
  },
  {
   "cell_type": "code",
   "execution_count": null,
   "metadata": {},
   "outputs": [],
   "source": [
    "plt.semilogy(1./tInit,tIgn)\n",
    "plt.xlabel('1/Tinit (K$^{-1}$)')\n",
    "plt.ylabel('Ignition Delay Time (s)')\n",
    "plt.show()"
   ]
  },
  {
   "cell_type": "code",
   "execution_count": null,
   "metadata": {},
   "outputs": [],
   "source": []
  }
 ],
 "metadata": {
  "kernelspec": {
   "display_name": "Python 3 (ipykernel)",
   "language": "python",
   "name": "python3"
  },
  "language_info": {
   "codemirror_mode": {
    "name": "ipython",
    "version": 3
   },
   "file_extension": ".py",
   "mimetype": "text/x-python",
   "name": "python",
   "nbconvert_exporter": "python",
   "pygments_lexer": "ipython3",
   "version": "3.9.7"
  }
 },
 "nbformat": 4,
 "nbformat_minor": 4
}
